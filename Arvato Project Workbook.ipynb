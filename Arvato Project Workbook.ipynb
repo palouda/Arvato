{
 "cells": [
  {
   "cell_type": "markdown",
   "metadata": {},
   "source": [
    "# Capstone Project: Create a Customer Segmentation Report for Arvato Financial Services\n",
    "\n",
    "In this project, you will analyze demographics data for customers of a mail-order sales company in Germany, comparing it against demographics information for the general population. You'll use unsupervised learning techniques to perform customer segmentation, identifying the parts of the population that best describe the core customer base of the company. Then, you'll apply what you've learned on a third dataset with demographics information for targets of a marketing campaign for the company, and use a model to predict which individuals are most likely to convert into becoming customers for the company. The data that you will use has been provided by our partners at Bertelsmann Arvato Analytics, and represents a real-life data science task.\n",
    "\n",
    "If you completed the first term of this program, you will be familiar with the first part of this project, from the unsupervised learning project. The versions of those two datasets used in this project will include many more features and has not been pre-cleaned. You are also free to choose whatever approach you'd like to analyzing the data rather than follow pre-determined steps. In your work on this project, make sure that you carefully document your steps and decisions, since your main deliverable for this project will be a blog post reporting your findings."
   ]
  },
  {
   "cell_type": "code",
   "execution_count": 1,
   "metadata": {},
   "outputs": [],
   "source": [
    "# import libraries here; add more as necessary\n",
    "import numpy as np\n",
    "import pandas as pd\n",
    "import matplotlib.pyplot as plt\n",
    "import seaborn as sns\n",
    "\n",
    "from sklearn.preprocessing import StandardScaler, MinMaxScaler, FunctionTransformer, OneHotEncoder\n",
    "\n",
    "from sklearn.model_selection import train_test_split\n",
    "from sklearn.model_selection import StratifiedKFold\n",
    "from sklearn.model_selection import GridSearchCV\n",
    "from sklearn.model_selection import learning_curve\n",
    "\n",
    "from sklearn.decomposition import PCA\n",
    "from sklearn.impute import SimpleImputer\n",
    "from sklearn.cluster import KMeans\n",
    "from sklearn.cluster import DBSCAN\n",
    "from sklearn.cluster import MeanShift\n",
    "\n",
    "from sklearn.pipeline import Pipeline\n",
    "from sklearn.compose import ColumnTransformer\n",
    "\n",
    "from sklearn.ensemble import AdaBoostRegressor # Adaptive Boosting\n",
    "from sklearn.ensemble import GradientBoostingRegressor # Gradient Tree Boosting\n",
    "from sklearn.ensemble import RandomForestClassifier, AdaBoostClassifier, GradientBoostingClassifier\n",
    "\n",
    "from xgboost.sklearn import XGBRegressor # Extreme Gradient Boosting\n",
    "import xgboost as xgb\n",
    "\n",
    "from sklearn.metrics import roc_auc_score, fbeta_score, accuracy_score, precision_score, recall_score\n",
    "\n",
    "from scipy import stats\n",
    "from scipy.stats import skew\n",
    "from time import time\n",
    "\n",
    "# magic word for producing visualizations in notebook\n",
    "%matplotlib inline"
   ]
  },
  {
   "cell_type": "markdown",
   "metadata": {},
   "source": [
    "## Part 0: Get to Know the Data\n",
    "\n",
    "There are four data files associated with this project:\n",
    "\n",
    "- `Udacity_AZDIAS_052018.csv`: Demographics data for the general population of Germany; 891 211 persons (rows) x 366 features (columns).\n",
    "- `Udacity_CUSTOMERS_052018.csv`: Demographics data for customers of a mail-order company; 191 652 persons (rows) x 369 features (columns).\n",
    "- `Udacity_MAILOUT_052018_TRAIN.csv`: Demographics data for individuals who were targets of a marketing campaign; 42 982 persons (rows) x 367 (columns).\n",
    "- `Udacity_MAILOUT_052018_TEST.csv`: Demographics data for individuals who were targets of a marketing campaign; 42 833 persons (rows) x 366 (columns).\n",
    "\n",
    "Each row of the demographics files represents a single person, but also includes information outside of individuals, including information about their household, building, and neighborhood. Use the information from the first two files to figure out how customers (\"CUSTOMERS\") are similar to or differ from the general population at large (\"AZDIAS\"), then use your analysis to make predictions on the other two files (\"MAILOUT\"), predicting which recipients are most likely to become a customer for the mail-order company.\n",
    "\n",
    "The \"CUSTOMERS\" file contains three extra columns ('CUSTOMER_GROUP', 'ONLINE_PURCHASE', and 'PRODUCT_GROUP'), which provide broad information about the customers depicted in the file. The original \"MAILOUT\" file included one additional column, \"RESPONSE\", which indicated whether or not each recipient became a customer of the company. For the \"TRAIN\" subset, this column has been retained, but in the \"TEST\" subset it has been removed; it is against that withheld column that your final predictions will be assessed in the Kaggle competition.\n",
    "\n",
    "Otherwise, all of the remaining columns are the same between the three data files. For more information about the columns depicted in the files, you can refer to two Excel spreadsheets provided in the workspace. [One of them](./DIAS Information Levels - Attributes 2017.xlsx) is a top-level list of attributes and descriptions, organized by informational category. [The other](./DIAS Attributes - Values 2017.xlsx) is a detailed mapping of data values for each feature in alphabetical order.\n",
    "\n",
    "In the below cell, we've provided some initial code to load in the first two datasets. Note for all of the `.csv` data files in this project that they're semicolon (`;`) delimited, so an additional argument in the [`read_csv()`](https://pandas.pydata.org/pandas-docs/stable/generated/pandas.read_csv.html) call has been included to read in the data properly. Also, considering the size of the datasets, it may take some time for them to load completely.\n",
    "\n",
    "You'll notice when the data is loaded in that a warning message will immediately pop up. Before you really start digging into the modeling and analysis, you're going to need to perform some cleaning. Take some time to browse the structure of the data and look over the informational spreadsheets to understand the data values. Make some decisions on which features to keep, which features to drop, and if any revisions need to be made on data formats. It'll be a good idea to create a function with pre-processing steps, since you'll need to clean all of the datasets before you work with them."
   ]
  },
  {
   "cell_type": "code",
   "execution_count": 2,
   "metadata": {},
   "outputs": [],
   "source": [
    "# load in the data\n",
    "#azdias = pd.read_csv('data/Udacity_AZDIAS_052018.csv', sep=';', low_memory=False)\n",
    "#customers = pd.read_csv('data/Udacity_CUSTOMERS_052018.csv', sep=';', low_memory=False)"
   ]
  },
  {
   "cell_type": "code",
   "execution_count": 3,
   "metadata": {},
   "outputs": [],
   "source": [
    "# pickle dataframes to speed-up data loading next time\n",
    "#azdias.to_pickle('azdias.pkl')\n",
    "#customers.to_pickle('customers.pkl')"
   ]
  },
  {
   "cell_type": "code",
   "execution_count": 4,
   "metadata": {},
   "outputs": [],
   "source": [
    "# read in from pickle files\n",
    "azdias = pd.read_pickle('azdias.pkl')\n",
    "customers = pd.read_pickle('customers.pkl')"
   ]
  },
  {
   "cell_type": "markdown",
   "metadata": {},
   "source": [
    "## Data Exploration and Visualization"
   ]
  },
  {
   "cell_type": "code",
   "execution_count": 5,
   "metadata": {},
   "outputs": [
    {
     "data": {
      "text/plain": [
       "(891221, 366)"
      ]
     },
     "execution_count": 5,
     "metadata": {},
     "output_type": "execute_result"
    }
   ],
   "source": [
    "# Shape of the general population dataset\n",
    "azdias.shape"
   ]
  },
  {
   "cell_type": "code",
   "execution_count": 6,
   "metadata": {},
   "outputs": [
    {
     "data": {
      "text/html": [
       "<div>\n",
       "<style scoped>\n",
       "    .dataframe tbody tr th:only-of-type {\n",
       "        vertical-align: middle;\n",
       "    }\n",
       "\n",
       "    .dataframe tbody tr th {\n",
       "        vertical-align: top;\n",
       "    }\n",
       "\n",
       "    .dataframe thead th {\n",
       "        text-align: right;\n",
       "    }\n",
       "</style>\n",
       "<table border=\"1\" class=\"dataframe\">\n",
       "  <thead>\n",
       "    <tr style=\"text-align: right;\">\n",
       "      <th></th>\n",
       "      <th>LNR</th>\n",
       "      <th>AGER_TYP</th>\n",
       "      <th>AKT_DAT_KL</th>\n",
       "      <th>ALTER_HH</th>\n",
       "      <th>ALTER_KIND1</th>\n",
       "      <th>ALTER_KIND2</th>\n",
       "      <th>ALTER_KIND3</th>\n",
       "      <th>ALTER_KIND4</th>\n",
       "      <th>ALTERSKATEGORIE_FEIN</th>\n",
       "      <th>ANZ_HAUSHALTE_AKTIV</th>\n",
       "      <th>...</th>\n",
       "      <th>VHN</th>\n",
       "      <th>VK_DHT4A</th>\n",
       "      <th>VK_DISTANZ</th>\n",
       "      <th>VK_ZG11</th>\n",
       "      <th>W_KEIT_KIND_HH</th>\n",
       "      <th>WOHNDAUER_2008</th>\n",
       "      <th>WOHNLAGE</th>\n",
       "      <th>ZABEOTYP</th>\n",
       "      <th>ANREDE_KZ</th>\n",
       "      <th>ALTERSKATEGORIE_GROB</th>\n",
       "    </tr>\n",
       "  </thead>\n",
       "  <tbody>\n",
       "    <tr>\n",
       "      <th>0</th>\n",
       "      <td>910215</td>\n",
       "      <td>-1</td>\n",
       "      <td>NaN</td>\n",
       "      <td>NaN</td>\n",
       "      <td>NaN</td>\n",
       "      <td>NaN</td>\n",
       "      <td>NaN</td>\n",
       "      <td>NaN</td>\n",
       "      <td>NaN</td>\n",
       "      <td>NaN</td>\n",
       "      <td>...</td>\n",
       "      <td>NaN</td>\n",
       "      <td>NaN</td>\n",
       "      <td>NaN</td>\n",
       "      <td>NaN</td>\n",
       "      <td>NaN</td>\n",
       "      <td>NaN</td>\n",
       "      <td>NaN</td>\n",
       "      <td>3</td>\n",
       "      <td>1</td>\n",
       "      <td>2</td>\n",
       "    </tr>\n",
       "    <tr>\n",
       "      <th>1</th>\n",
       "      <td>910220</td>\n",
       "      <td>-1</td>\n",
       "      <td>9.0</td>\n",
       "      <td>0.0</td>\n",
       "      <td>NaN</td>\n",
       "      <td>NaN</td>\n",
       "      <td>NaN</td>\n",
       "      <td>NaN</td>\n",
       "      <td>21.0</td>\n",
       "      <td>11.0</td>\n",
       "      <td>...</td>\n",
       "      <td>4.0</td>\n",
       "      <td>8.0</td>\n",
       "      <td>11.0</td>\n",
       "      <td>10.0</td>\n",
       "      <td>3.0</td>\n",
       "      <td>9.0</td>\n",
       "      <td>4.0</td>\n",
       "      <td>5</td>\n",
       "      <td>2</td>\n",
       "      <td>1</td>\n",
       "    </tr>\n",
       "    <tr>\n",
       "      <th>2</th>\n",
       "      <td>910225</td>\n",
       "      <td>-1</td>\n",
       "      <td>9.0</td>\n",
       "      <td>17.0</td>\n",
       "      <td>NaN</td>\n",
       "      <td>NaN</td>\n",
       "      <td>NaN</td>\n",
       "      <td>NaN</td>\n",
       "      <td>17.0</td>\n",
       "      <td>10.0</td>\n",
       "      <td>...</td>\n",
       "      <td>2.0</td>\n",
       "      <td>9.0</td>\n",
       "      <td>9.0</td>\n",
       "      <td>6.0</td>\n",
       "      <td>3.0</td>\n",
       "      <td>9.0</td>\n",
       "      <td>2.0</td>\n",
       "      <td>5</td>\n",
       "      <td>2</td>\n",
       "      <td>3</td>\n",
       "    </tr>\n",
       "    <tr>\n",
       "      <th>3</th>\n",
       "      <td>910226</td>\n",
       "      <td>2</td>\n",
       "      <td>1.0</td>\n",
       "      <td>13.0</td>\n",
       "      <td>NaN</td>\n",
       "      <td>NaN</td>\n",
       "      <td>NaN</td>\n",
       "      <td>NaN</td>\n",
       "      <td>13.0</td>\n",
       "      <td>1.0</td>\n",
       "      <td>...</td>\n",
       "      <td>0.0</td>\n",
       "      <td>7.0</td>\n",
       "      <td>10.0</td>\n",
       "      <td>11.0</td>\n",
       "      <td>NaN</td>\n",
       "      <td>9.0</td>\n",
       "      <td>7.0</td>\n",
       "      <td>3</td>\n",
       "      <td>2</td>\n",
       "      <td>4</td>\n",
       "    </tr>\n",
       "    <tr>\n",
       "      <th>4</th>\n",
       "      <td>910241</td>\n",
       "      <td>-1</td>\n",
       "      <td>1.0</td>\n",
       "      <td>20.0</td>\n",
       "      <td>NaN</td>\n",
       "      <td>NaN</td>\n",
       "      <td>NaN</td>\n",
       "      <td>NaN</td>\n",
       "      <td>14.0</td>\n",
       "      <td>3.0</td>\n",
       "      <td>...</td>\n",
       "      <td>2.0</td>\n",
       "      <td>3.0</td>\n",
       "      <td>5.0</td>\n",
       "      <td>4.0</td>\n",
       "      <td>2.0</td>\n",
       "      <td>9.0</td>\n",
       "      <td>3.0</td>\n",
       "      <td>4</td>\n",
       "      <td>1</td>\n",
       "      <td>3</td>\n",
       "    </tr>\n",
       "  </tbody>\n",
       "</table>\n",
       "<p>5 rows × 366 columns</p>\n",
       "</div>"
      ],
      "text/plain": [
       "      LNR  AGER_TYP  AKT_DAT_KL  ALTER_HH  ALTER_KIND1  ALTER_KIND2  \\\n",
       "0  910215        -1         NaN       NaN          NaN          NaN   \n",
       "1  910220        -1         9.0       0.0          NaN          NaN   \n",
       "2  910225        -1         9.0      17.0          NaN          NaN   \n",
       "3  910226         2         1.0      13.0          NaN          NaN   \n",
       "4  910241        -1         1.0      20.0          NaN          NaN   \n",
       "\n",
       "   ALTER_KIND3  ALTER_KIND4  ALTERSKATEGORIE_FEIN  ANZ_HAUSHALTE_AKTIV  ...  \\\n",
       "0          NaN          NaN                   NaN                  NaN  ...   \n",
       "1          NaN          NaN                  21.0                 11.0  ...   \n",
       "2          NaN          NaN                  17.0                 10.0  ...   \n",
       "3          NaN          NaN                  13.0                  1.0  ...   \n",
       "4          NaN          NaN                  14.0                  3.0  ...   \n",
       "\n",
       "   VHN  VK_DHT4A  VK_DISTANZ  VK_ZG11  W_KEIT_KIND_HH  WOHNDAUER_2008  \\\n",
       "0  NaN       NaN         NaN      NaN             NaN             NaN   \n",
       "1  4.0       8.0        11.0     10.0             3.0             9.0   \n",
       "2  2.0       9.0         9.0      6.0             3.0             9.0   \n",
       "3  0.0       7.0        10.0     11.0             NaN             9.0   \n",
       "4  2.0       3.0         5.0      4.0             2.0             9.0   \n",
       "\n",
       "   WOHNLAGE ZABEOTYP ANREDE_KZ ALTERSKATEGORIE_GROB  \n",
       "0       NaN        3         1                    2  \n",
       "1       4.0        5         2                    1  \n",
       "2       2.0        5         2                    3  \n",
       "3       7.0        3         2                    4  \n",
       "4       3.0        4         1                    3  \n",
       "\n",
       "[5 rows x 366 columns]"
      ]
     },
     "execution_count": 6,
     "metadata": {},
     "output_type": "execute_result"
    }
   ],
   "source": [
    "azdias.head()"
   ]
  },
  {
   "cell_type": "code",
   "execution_count": 7,
   "metadata": {},
   "outputs": [
    {
     "data": {
      "text/plain": [
       "(191652, 369)"
      ]
     },
     "execution_count": 7,
     "metadata": {},
     "output_type": "execute_result"
    }
   ],
   "source": [
    "# Shape of the customers dataset\n",
    "customers.shape"
   ]
  },
  {
   "cell_type": "code",
   "execution_count": 8,
   "metadata": {},
   "outputs": [
    {
     "data": {
      "text/html": [
       "<div>\n",
       "<style scoped>\n",
       "    .dataframe tbody tr th:only-of-type {\n",
       "        vertical-align: middle;\n",
       "    }\n",
       "\n",
       "    .dataframe tbody tr th {\n",
       "        vertical-align: top;\n",
       "    }\n",
       "\n",
       "    .dataframe thead th {\n",
       "        text-align: right;\n",
       "    }\n",
       "</style>\n",
       "<table border=\"1\" class=\"dataframe\">\n",
       "  <thead>\n",
       "    <tr style=\"text-align: right;\">\n",
       "      <th></th>\n",
       "      <th>LNR</th>\n",
       "      <th>AGER_TYP</th>\n",
       "      <th>AKT_DAT_KL</th>\n",
       "      <th>ALTER_HH</th>\n",
       "      <th>ALTER_KIND1</th>\n",
       "      <th>ALTER_KIND2</th>\n",
       "      <th>ALTER_KIND3</th>\n",
       "      <th>ALTER_KIND4</th>\n",
       "      <th>ALTERSKATEGORIE_FEIN</th>\n",
       "      <th>ANZ_HAUSHALTE_AKTIV</th>\n",
       "      <th>...</th>\n",
       "      <th>VK_ZG11</th>\n",
       "      <th>W_KEIT_KIND_HH</th>\n",
       "      <th>WOHNDAUER_2008</th>\n",
       "      <th>WOHNLAGE</th>\n",
       "      <th>ZABEOTYP</th>\n",
       "      <th>PRODUCT_GROUP</th>\n",
       "      <th>CUSTOMER_GROUP</th>\n",
       "      <th>ONLINE_PURCHASE</th>\n",
       "      <th>ANREDE_KZ</th>\n",
       "      <th>ALTERSKATEGORIE_GROB</th>\n",
       "    </tr>\n",
       "  </thead>\n",
       "  <tbody>\n",
       "    <tr>\n",
       "      <th>0</th>\n",
       "      <td>9626</td>\n",
       "      <td>2</td>\n",
       "      <td>1.0</td>\n",
       "      <td>10.0</td>\n",
       "      <td>NaN</td>\n",
       "      <td>NaN</td>\n",
       "      <td>NaN</td>\n",
       "      <td>NaN</td>\n",
       "      <td>10.0</td>\n",
       "      <td>1.0</td>\n",
       "      <td>...</td>\n",
       "      <td>2.0</td>\n",
       "      <td>6.0</td>\n",
       "      <td>9.0</td>\n",
       "      <td>7.0</td>\n",
       "      <td>3</td>\n",
       "      <td>COSMETIC_AND_FOOD</td>\n",
       "      <td>MULTI_BUYER</td>\n",
       "      <td>0</td>\n",
       "      <td>1</td>\n",
       "      <td>4</td>\n",
       "    </tr>\n",
       "    <tr>\n",
       "      <th>1</th>\n",
       "      <td>9628</td>\n",
       "      <td>-1</td>\n",
       "      <td>9.0</td>\n",
       "      <td>11.0</td>\n",
       "      <td>NaN</td>\n",
       "      <td>NaN</td>\n",
       "      <td>NaN</td>\n",
       "      <td>NaN</td>\n",
       "      <td>NaN</td>\n",
       "      <td>NaN</td>\n",
       "      <td>...</td>\n",
       "      <td>3.0</td>\n",
       "      <td>0.0</td>\n",
       "      <td>9.0</td>\n",
       "      <td>NaN</td>\n",
       "      <td>3</td>\n",
       "      <td>FOOD</td>\n",
       "      <td>SINGLE_BUYER</td>\n",
       "      <td>0</td>\n",
       "      <td>1</td>\n",
       "      <td>4</td>\n",
       "    </tr>\n",
       "    <tr>\n",
       "      <th>2</th>\n",
       "      <td>143872</td>\n",
       "      <td>-1</td>\n",
       "      <td>1.0</td>\n",
       "      <td>6.0</td>\n",
       "      <td>NaN</td>\n",
       "      <td>NaN</td>\n",
       "      <td>NaN</td>\n",
       "      <td>NaN</td>\n",
       "      <td>0.0</td>\n",
       "      <td>1.0</td>\n",
       "      <td>...</td>\n",
       "      <td>11.0</td>\n",
       "      <td>6.0</td>\n",
       "      <td>9.0</td>\n",
       "      <td>2.0</td>\n",
       "      <td>3</td>\n",
       "      <td>COSMETIC_AND_FOOD</td>\n",
       "      <td>MULTI_BUYER</td>\n",
       "      <td>0</td>\n",
       "      <td>2</td>\n",
       "      <td>4</td>\n",
       "    </tr>\n",
       "    <tr>\n",
       "      <th>3</th>\n",
       "      <td>143873</td>\n",
       "      <td>1</td>\n",
       "      <td>1.0</td>\n",
       "      <td>8.0</td>\n",
       "      <td>NaN</td>\n",
       "      <td>NaN</td>\n",
       "      <td>NaN</td>\n",
       "      <td>NaN</td>\n",
       "      <td>8.0</td>\n",
       "      <td>0.0</td>\n",
       "      <td>...</td>\n",
       "      <td>2.0</td>\n",
       "      <td>NaN</td>\n",
       "      <td>9.0</td>\n",
       "      <td>7.0</td>\n",
       "      <td>1</td>\n",
       "      <td>COSMETIC</td>\n",
       "      <td>MULTI_BUYER</td>\n",
       "      <td>0</td>\n",
       "      <td>1</td>\n",
       "      <td>4</td>\n",
       "    </tr>\n",
       "    <tr>\n",
       "      <th>4</th>\n",
       "      <td>143874</td>\n",
       "      <td>-1</td>\n",
       "      <td>1.0</td>\n",
       "      <td>20.0</td>\n",
       "      <td>NaN</td>\n",
       "      <td>NaN</td>\n",
       "      <td>NaN</td>\n",
       "      <td>NaN</td>\n",
       "      <td>14.0</td>\n",
       "      <td>7.0</td>\n",
       "      <td>...</td>\n",
       "      <td>4.0</td>\n",
       "      <td>2.0</td>\n",
       "      <td>9.0</td>\n",
       "      <td>3.0</td>\n",
       "      <td>1</td>\n",
       "      <td>FOOD</td>\n",
       "      <td>MULTI_BUYER</td>\n",
       "      <td>0</td>\n",
       "      <td>1</td>\n",
       "      <td>3</td>\n",
       "    </tr>\n",
       "  </tbody>\n",
       "</table>\n",
       "<p>5 rows × 369 columns</p>\n",
       "</div>"
      ],
      "text/plain": [
       "      LNR  AGER_TYP  AKT_DAT_KL  ALTER_HH  ALTER_KIND1  ALTER_KIND2  \\\n",
       "0    9626         2         1.0      10.0          NaN          NaN   \n",
       "1    9628        -1         9.0      11.0          NaN          NaN   \n",
       "2  143872        -1         1.0       6.0          NaN          NaN   \n",
       "3  143873         1         1.0       8.0          NaN          NaN   \n",
       "4  143874        -1         1.0      20.0          NaN          NaN   \n",
       "\n",
       "   ALTER_KIND3  ALTER_KIND4  ALTERSKATEGORIE_FEIN  ANZ_HAUSHALTE_AKTIV  ...  \\\n",
       "0          NaN          NaN                  10.0                  1.0  ...   \n",
       "1          NaN          NaN                   NaN                  NaN  ...   \n",
       "2          NaN          NaN                   0.0                  1.0  ...   \n",
       "3          NaN          NaN                   8.0                  0.0  ...   \n",
       "4          NaN          NaN                  14.0                  7.0  ...   \n",
       "\n",
       "   VK_ZG11  W_KEIT_KIND_HH  WOHNDAUER_2008  WOHNLAGE  ZABEOTYP  \\\n",
       "0      2.0             6.0             9.0       7.0         3   \n",
       "1      3.0             0.0             9.0       NaN         3   \n",
       "2     11.0             6.0             9.0       2.0         3   \n",
       "3      2.0             NaN             9.0       7.0         1   \n",
       "4      4.0             2.0             9.0       3.0         1   \n",
       "\n",
       "       PRODUCT_GROUP  CUSTOMER_GROUP ONLINE_PURCHASE ANREDE_KZ  \\\n",
       "0  COSMETIC_AND_FOOD     MULTI_BUYER               0         1   \n",
       "1               FOOD    SINGLE_BUYER               0         1   \n",
       "2  COSMETIC_AND_FOOD     MULTI_BUYER               0         2   \n",
       "3           COSMETIC     MULTI_BUYER               0         1   \n",
       "4               FOOD     MULTI_BUYER               0         1   \n",
       "\n",
       "  ALTERSKATEGORIE_GROB  \n",
       "0                    4  \n",
       "1                    4  \n",
       "2                    4  \n",
       "3                    4  \n",
       "4                    3  \n",
       "\n",
       "[5 rows x 369 columns]"
      ]
     },
     "execution_count": 8,
     "metadata": {},
     "output_type": "execute_result"
    }
   ],
   "source": [
    "customers.head()"
   ]
  },
  {
   "cell_type": "code",
   "execution_count": 9,
   "metadata": {},
   "outputs": [
    {
     "data": {
      "text/plain": [
       "{'CUSTOMER_GROUP', 'ONLINE_PURCHASE', 'PRODUCT_GROUP'}"
      ]
     },
     "execution_count": 9,
     "metadata": {},
     "output_type": "execute_result"
    }
   ],
   "source": [
    "# Column differences between the datasets\n",
    "set(customers.columns) - set(azdias.columns)"
   ]
  },
  {
   "cell_type": "markdown",
   "metadata": {},
   "source": [
    "The customers dataset has three columns that the general population dataset does not have. These three columns relate to the purchasing of the customer."
   ]
  },
  {
   "cell_type": "code",
   "execution_count": 10,
   "metadata": {},
   "outputs": [
    {
     "data": {
      "text/html": [
       "<div>\n",
       "<style scoped>\n",
       "    .dataframe tbody tr th:only-of-type {\n",
       "        vertical-align: middle;\n",
       "    }\n",
       "\n",
       "    .dataframe tbody tr th {\n",
       "        vertical-align: top;\n",
       "    }\n",
       "\n",
       "    .dataframe thead th {\n",
       "        text-align: right;\n",
       "    }\n",
       "</style>\n",
       "<table border=\"1\" class=\"dataframe\">\n",
       "  <thead>\n",
       "    <tr style=\"text-align: right;\">\n",
       "      <th></th>\n",
       "      <th>LNR</th>\n",
       "      <th>AGER_TYP</th>\n",
       "      <th>AKT_DAT_KL</th>\n",
       "      <th>ALTER_HH</th>\n",
       "      <th>ALTER_KIND1</th>\n",
       "      <th>ALTER_KIND2</th>\n",
       "      <th>ALTER_KIND3</th>\n",
       "      <th>ALTER_KIND4</th>\n",
       "      <th>ALTERSKATEGORIE_FEIN</th>\n",
       "      <th>ANZ_HAUSHALTE_AKTIV</th>\n",
       "      <th>...</th>\n",
       "      <th>VHN</th>\n",
       "      <th>VK_DHT4A</th>\n",
       "      <th>VK_DISTANZ</th>\n",
       "      <th>VK_ZG11</th>\n",
       "      <th>W_KEIT_KIND_HH</th>\n",
       "      <th>WOHNDAUER_2008</th>\n",
       "      <th>WOHNLAGE</th>\n",
       "      <th>ZABEOTYP</th>\n",
       "      <th>ANREDE_KZ</th>\n",
       "      <th>ALTERSKATEGORIE_GROB</th>\n",
       "    </tr>\n",
       "  </thead>\n",
       "  <tbody>\n",
       "    <tr>\n",
       "      <th>count</th>\n",
       "      <td>8.912210e+05</td>\n",
       "      <td>891221.000000</td>\n",
       "      <td>817722.000000</td>\n",
       "      <td>817722.000000</td>\n",
       "      <td>81058.000000</td>\n",
       "      <td>29499.000000</td>\n",
       "      <td>6170.000000</td>\n",
       "      <td>1205.000000</td>\n",
       "      <td>628274.000000</td>\n",
       "      <td>798073.000000</td>\n",
       "      <td>...</td>\n",
       "      <td>770025.000000</td>\n",
       "      <td>815304.000000</td>\n",
       "      <td>815304.000000</td>\n",
       "      <td>815304.000000</td>\n",
       "      <td>783619.000000</td>\n",
       "      <td>817722.000000</td>\n",
       "      <td>798073.000000</td>\n",
       "      <td>891221.000000</td>\n",
       "      <td>891221.000000</td>\n",
       "      <td>891221.000000</td>\n",
       "    </tr>\n",
       "    <tr>\n",
       "      <th>mean</th>\n",
       "      <td>6.372630e+05</td>\n",
       "      <td>-0.358435</td>\n",
       "      <td>4.421928</td>\n",
       "      <td>10.864126</td>\n",
       "      <td>11.745392</td>\n",
       "      <td>13.402658</td>\n",
       "      <td>14.476013</td>\n",
       "      <td>15.089627</td>\n",
       "      <td>13.700717</td>\n",
       "      <td>8.287263</td>\n",
       "      <td>...</td>\n",
       "      <td>2.417322</td>\n",
       "      <td>6.001214</td>\n",
       "      <td>7.532130</td>\n",
       "      <td>5.945972</td>\n",
       "      <td>3.933406</td>\n",
       "      <td>7.908791</td>\n",
       "      <td>4.052836</td>\n",
       "      <td>3.362438</td>\n",
       "      <td>1.522098</td>\n",
       "      <td>2.777398</td>\n",
       "    </tr>\n",
       "    <tr>\n",
       "      <th>std</th>\n",
       "      <td>2.572735e+05</td>\n",
       "      <td>1.198724</td>\n",
       "      <td>3.638805</td>\n",
       "      <td>7.639683</td>\n",
       "      <td>4.097660</td>\n",
       "      <td>3.243300</td>\n",
       "      <td>2.712427</td>\n",
       "      <td>2.452932</td>\n",
       "      <td>5.079849</td>\n",
       "      <td>15.628087</td>\n",
       "      <td>...</td>\n",
       "      <td>1.166572</td>\n",
       "      <td>2.856091</td>\n",
       "      <td>3.247789</td>\n",
       "      <td>2.771464</td>\n",
       "      <td>1.964701</td>\n",
       "      <td>1.923137</td>\n",
       "      <td>1.949539</td>\n",
       "      <td>1.352704</td>\n",
       "      <td>0.499512</td>\n",
       "      <td>1.068775</td>\n",
       "    </tr>\n",
       "    <tr>\n",
       "      <th>min</th>\n",
       "      <td>1.916530e+05</td>\n",
       "      <td>-1.000000</td>\n",
       "      <td>1.000000</td>\n",
       "      <td>0.000000</td>\n",
       "      <td>2.000000</td>\n",
       "      <td>2.000000</td>\n",
       "      <td>4.000000</td>\n",
       "      <td>7.000000</td>\n",
       "      <td>0.000000</td>\n",
       "      <td>0.000000</td>\n",
       "      <td>...</td>\n",
       "      <td>0.000000</td>\n",
       "      <td>1.000000</td>\n",
       "      <td>1.000000</td>\n",
       "      <td>1.000000</td>\n",
       "      <td>0.000000</td>\n",
       "      <td>1.000000</td>\n",
       "      <td>0.000000</td>\n",
       "      <td>1.000000</td>\n",
       "      <td>1.000000</td>\n",
       "      <td>1.000000</td>\n",
       "    </tr>\n",
       "    <tr>\n",
       "      <th>25%</th>\n",
       "      <td>4.144580e+05</td>\n",
       "      <td>-1.000000</td>\n",
       "      <td>1.000000</td>\n",
       "      <td>0.000000</td>\n",
       "      <td>8.000000</td>\n",
       "      <td>11.000000</td>\n",
       "      <td>13.000000</td>\n",
       "      <td>14.000000</td>\n",
       "      <td>11.000000</td>\n",
       "      <td>1.000000</td>\n",
       "      <td>...</td>\n",
       "      <td>2.000000</td>\n",
       "      <td>3.000000</td>\n",
       "      <td>5.000000</td>\n",
       "      <td>4.000000</td>\n",
       "      <td>2.000000</td>\n",
       "      <td>8.000000</td>\n",
       "      <td>3.000000</td>\n",
       "      <td>3.000000</td>\n",
       "      <td>1.000000</td>\n",
       "      <td>2.000000</td>\n",
       "    </tr>\n",
       "    <tr>\n",
       "      <th>50%</th>\n",
       "      <td>6.372630e+05</td>\n",
       "      <td>-1.000000</td>\n",
       "      <td>3.000000</td>\n",
       "      <td>13.000000</td>\n",
       "      <td>12.000000</td>\n",
       "      <td>14.000000</td>\n",
       "      <td>15.000000</td>\n",
       "      <td>15.000000</td>\n",
       "      <td>14.000000</td>\n",
       "      <td>4.000000</td>\n",
       "      <td>...</td>\n",
       "      <td>2.000000</td>\n",
       "      <td>6.000000</td>\n",
       "      <td>8.000000</td>\n",
       "      <td>6.000000</td>\n",
       "      <td>4.000000</td>\n",
       "      <td>9.000000</td>\n",
       "      <td>3.000000</td>\n",
       "      <td>3.000000</td>\n",
       "      <td>2.000000</td>\n",
       "      <td>3.000000</td>\n",
       "    </tr>\n",
       "    <tr>\n",
       "      <th>75%</th>\n",
       "      <td>8.600680e+05</td>\n",
       "      <td>-1.000000</td>\n",
       "      <td>9.000000</td>\n",
       "      <td>17.000000</td>\n",
       "      <td>15.000000</td>\n",
       "      <td>16.000000</td>\n",
       "      <td>17.000000</td>\n",
       "      <td>17.000000</td>\n",
       "      <td>17.000000</td>\n",
       "      <td>9.000000</td>\n",
       "      <td>...</td>\n",
       "      <td>3.000000</td>\n",
       "      <td>9.000000</td>\n",
       "      <td>10.000000</td>\n",
       "      <td>8.000000</td>\n",
       "      <td>6.000000</td>\n",
       "      <td>9.000000</td>\n",
       "      <td>5.000000</td>\n",
       "      <td>4.000000</td>\n",
       "      <td>2.000000</td>\n",
       "      <td>4.000000</td>\n",
       "    </tr>\n",
       "    <tr>\n",
       "      <th>max</th>\n",
       "      <td>1.082873e+06</td>\n",
       "      <td>3.000000</td>\n",
       "      <td>9.000000</td>\n",
       "      <td>21.000000</td>\n",
       "      <td>18.000000</td>\n",
       "      <td>18.000000</td>\n",
       "      <td>18.000000</td>\n",
       "      <td>18.000000</td>\n",
       "      <td>25.000000</td>\n",
       "      <td>595.000000</td>\n",
       "      <td>...</td>\n",
       "      <td>4.000000</td>\n",
       "      <td>11.000000</td>\n",
       "      <td>13.000000</td>\n",
       "      <td>11.000000</td>\n",
       "      <td>6.000000</td>\n",
       "      <td>9.000000</td>\n",
       "      <td>8.000000</td>\n",
       "      <td>6.000000</td>\n",
       "      <td>2.000000</td>\n",
       "      <td>9.000000</td>\n",
       "    </tr>\n",
       "  </tbody>\n",
       "</table>\n",
       "<p>8 rows × 360 columns</p>\n",
       "</div>"
      ],
      "text/plain": [
       "                LNR       AGER_TYP     AKT_DAT_KL       ALTER_HH  \\\n",
       "count  8.912210e+05  891221.000000  817722.000000  817722.000000   \n",
       "mean   6.372630e+05      -0.358435       4.421928      10.864126   \n",
       "std    2.572735e+05       1.198724       3.638805       7.639683   \n",
       "min    1.916530e+05      -1.000000       1.000000       0.000000   \n",
       "25%    4.144580e+05      -1.000000       1.000000       0.000000   \n",
       "50%    6.372630e+05      -1.000000       3.000000      13.000000   \n",
       "75%    8.600680e+05      -1.000000       9.000000      17.000000   \n",
       "max    1.082873e+06       3.000000       9.000000      21.000000   \n",
       "\n",
       "        ALTER_KIND1   ALTER_KIND2  ALTER_KIND3  ALTER_KIND4  \\\n",
       "count  81058.000000  29499.000000  6170.000000  1205.000000   \n",
       "mean      11.745392     13.402658    14.476013    15.089627   \n",
       "std        4.097660      3.243300     2.712427     2.452932   \n",
       "min        2.000000      2.000000     4.000000     7.000000   \n",
       "25%        8.000000     11.000000    13.000000    14.000000   \n",
       "50%       12.000000     14.000000    15.000000    15.000000   \n",
       "75%       15.000000     16.000000    17.000000    17.000000   \n",
       "max       18.000000     18.000000    18.000000    18.000000   \n",
       "\n",
       "       ALTERSKATEGORIE_FEIN  ANZ_HAUSHALTE_AKTIV  ...            VHN  \\\n",
       "count         628274.000000        798073.000000  ...  770025.000000   \n",
       "mean              13.700717             8.287263  ...       2.417322   \n",
       "std                5.079849            15.628087  ...       1.166572   \n",
       "min                0.000000             0.000000  ...       0.000000   \n",
       "25%               11.000000             1.000000  ...       2.000000   \n",
       "50%               14.000000             4.000000  ...       2.000000   \n",
       "75%               17.000000             9.000000  ...       3.000000   \n",
       "max               25.000000           595.000000  ...       4.000000   \n",
       "\n",
       "            VK_DHT4A     VK_DISTANZ        VK_ZG11  W_KEIT_KIND_HH  \\\n",
       "count  815304.000000  815304.000000  815304.000000   783619.000000   \n",
       "mean        6.001214       7.532130       5.945972        3.933406   \n",
       "std         2.856091       3.247789       2.771464        1.964701   \n",
       "min         1.000000       1.000000       1.000000        0.000000   \n",
       "25%         3.000000       5.000000       4.000000        2.000000   \n",
       "50%         6.000000       8.000000       6.000000        4.000000   \n",
       "75%         9.000000      10.000000       8.000000        6.000000   \n",
       "max        11.000000      13.000000      11.000000        6.000000   \n",
       "\n",
       "       WOHNDAUER_2008       WOHNLAGE       ZABEOTYP      ANREDE_KZ  \\\n",
       "count   817722.000000  798073.000000  891221.000000  891221.000000   \n",
       "mean         7.908791       4.052836       3.362438       1.522098   \n",
       "std          1.923137       1.949539       1.352704       0.499512   \n",
       "min          1.000000       0.000000       1.000000       1.000000   \n",
       "25%          8.000000       3.000000       3.000000       1.000000   \n",
       "50%          9.000000       3.000000       3.000000       2.000000   \n",
       "75%          9.000000       5.000000       4.000000       2.000000   \n",
       "max          9.000000       8.000000       6.000000       2.000000   \n",
       "\n",
       "       ALTERSKATEGORIE_GROB  \n",
       "count         891221.000000  \n",
       "mean               2.777398  \n",
       "std                1.068775  \n",
       "min                1.000000  \n",
       "25%                2.000000  \n",
       "50%                3.000000  \n",
       "75%                4.000000  \n",
       "max                9.000000  \n",
       "\n",
       "[8 rows x 360 columns]"
      ]
     },
     "execution_count": 10,
     "metadata": {},
     "output_type": "execute_result"
    }
   ],
   "source": [
    "# Describe the general population dataset\n",
    "azdias.describe()"
   ]
  },
  {
   "cell_type": "code",
   "execution_count": 11,
   "metadata": {},
   "outputs": [
    {
     "data": {
      "text/html": [
       "<div>\n",
       "<style scoped>\n",
       "    .dataframe tbody tr th:only-of-type {\n",
       "        vertical-align: middle;\n",
       "    }\n",
       "\n",
       "    .dataframe tbody tr th {\n",
       "        vertical-align: top;\n",
       "    }\n",
       "\n",
       "    .dataframe thead th {\n",
       "        text-align: right;\n",
       "    }\n",
       "</style>\n",
       "<table border=\"1\" class=\"dataframe\">\n",
       "  <thead>\n",
       "    <tr style=\"text-align: right;\">\n",
       "      <th></th>\n",
       "      <th>LNR</th>\n",
       "      <th>AGER_TYP</th>\n",
       "      <th>AKT_DAT_KL</th>\n",
       "      <th>ALTER_HH</th>\n",
       "      <th>ALTER_KIND1</th>\n",
       "      <th>ALTER_KIND2</th>\n",
       "      <th>ALTER_KIND3</th>\n",
       "      <th>ALTER_KIND4</th>\n",
       "      <th>ALTERSKATEGORIE_FEIN</th>\n",
       "      <th>ANZ_HAUSHALTE_AKTIV</th>\n",
       "      <th>...</th>\n",
       "      <th>VK_DHT4A</th>\n",
       "      <th>VK_DISTANZ</th>\n",
       "      <th>VK_ZG11</th>\n",
       "      <th>W_KEIT_KIND_HH</th>\n",
       "      <th>WOHNDAUER_2008</th>\n",
       "      <th>WOHNLAGE</th>\n",
       "      <th>ZABEOTYP</th>\n",
       "      <th>ONLINE_PURCHASE</th>\n",
       "      <th>ANREDE_KZ</th>\n",
       "      <th>ALTERSKATEGORIE_GROB</th>\n",
       "    </tr>\n",
       "  </thead>\n",
       "  <tbody>\n",
       "    <tr>\n",
       "      <th>count</th>\n",
       "      <td>191652.000000</td>\n",
       "      <td>191652.000000</td>\n",
       "      <td>145056.000000</td>\n",
       "      <td>145056.000000</td>\n",
       "      <td>11766.000000</td>\n",
       "      <td>5100.000000</td>\n",
       "      <td>1275.000000</td>\n",
       "      <td>236.000000</td>\n",
       "      <td>139810.000000</td>\n",
       "      <td>141725.000000</td>\n",
       "      <td>...</td>\n",
       "      <td>143781.000000</td>\n",
       "      <td>143781.000000</td>\n",
       "      <td>143781.000000</td>\n",
       "      <td>137910.000000</td>\n",
       "      <td>145056.000000</td>\n",
       "      <td>141725.000000</td>\n",
       "      <td>191652.000000</td>\n",
       "      <td>191652.000000</td>\n",
       "      <td>191652.000000</td>\n",
       "      <td>191652.000000</td>\n",
       "    </tr>\n",
       "    <tr>\n",
       "      <th>mean</th>\n",
       "      <td>95826.500000</td>\n",
       "      <td>0.344359</td>\n",
       "      <td>1.747525</td>\n",
       "      <td>11.352009</td>\n",
       "      <td>12.337243</td>\n",
       "      <td>13.672353</td>\n",
       "      <td>14.647059</td>\n",
       "      <td>15.377119</td>\n",
       "      <td>10.331579</td>\n",
       "      <td>4.965863</td>\n",
       "      <td>...</td>\n",
       "      <td>4.374417</td>\n",
       "      <td>4.564769</td>\n",
       "      <td>3.168868</td>\n",
       "      <td>4.152716</td>\n",
       "      <td>8.646371</td>\n",
       "      <td>3.723133</td>\n",
       "      <td>2.576806</td>\n",
       "      <td>0.090247</td>\n",
       "      <td>1.376432</td>\n",
       "      <td>3.060907</td>\n",
       "    </tr>\n",
       "    <tr>\n",
       "      <th>std</th>\n",
       "      <td>55325.311233</td>\n",
       "      <td>1.391672</td>\n",
       "      <td>1.966334</td>\n",
       "      <td>6.275026</td>\n",
       "      <td>4.006050</td>\n",
       "      <td>3.243335</td>\n",
       "      <td>2.753787</td>\n",
       "      <td>2.307653</td>\n",
       "      <td>4.134828</td>\n",
       "      <td>14.309694</td>\n",
       "      <td>...</td>\n",
       "      <td>2.924355</td>\n",
       "      <td>2.887035</td>\n",
       "      <td>2.233516</td>\n",
       "      <td>1.974375</td>\n",
       "      <td>1.154001</td>\n",
       "      <td>2.095540</td>\n",
       "      <td>1.168486</td>\n",
       "      <td>0.286536</td>\n",
       "      <td>0.484492</td>\n",
       "      <td>1.086254</td>\n",
       "    </tr>\n",
       "    <tr>\n",
       "      <th>min</th>\n",
       "      <td>1.000000</td>\n",
       "      <td>-1.000000</td>\n",
       "      <td>1.000000</td>\n",
       "      <td>0.000000</td>\n",
       "      <td>2.000000</td>\n",
       "      <td>2.000000</td>\n",
       "      <td>5.000000</td>\n",
       "      <td>8.000000</td>\n",
       "      <td>0.000000</td>\n",
       "      <td>0.000000</td>\n",
       "      <td>...</td>\n",
       "      <td>1.000000</td>\n",
       "      <td>1.000000</td>\n",
       "      <td>1.000000</td>\n",
       "      <td>0.000000</td>\n",
       "      <td>1.000000</td>\n",
       "      <td>0.000000</td>\n",
       "      <td>1.000000</td>\n",
       "      <td>0.000000</td>\n",
       "      <td>1.000000</td>\n",
       "      <td>1.000000</td>\n",
       "    </tr>\n",
       "    <tr>\n",
       "      <th>25%</th>\n",
       "      <td>47913.750000</td>\n",
       "      <td>-1.000000</td>\n",
       "      <td>1.000000</td>\n",
       "      <td>8.000000</td>\n",
       "      <td>9.000000</td>\n",
       "      <td>11.000000</td>\n",
       "      <td>13.000000</td>\n",
       "      <td>14.000000</td>\n",
       "      <td>9.000000</td>\n",
       "      <td>1.000000</td>\n",
       "      <td>...</td>\n",
       "      <td>2.000000</td>\n",
       "      <td>2.000000</td>\n",
       "      <td>1.000000</td>\n",
       "      <td>2.000000</td>\n",
       "      <td>9.000000</td>\n",
       "      <td>2.000000</td>\n",
       "      <td>1.000000</td>\n",
       "      <td>0.000000</td>\n",
       "      <td>1.000000</td>\n",
       "      <td>3.000000</td>\n",
       "    </tr>\n",
       "    <tr>\n",
       "      <th>50%</th>\n",
       "      <td>95826.500000</td>\n",
       "      <td>0.000000</td>\n",
       "      <td>1.000000</td>\n",
       "      <td>11.000000</td>\n",
       "      <td>13.000000</td>\n",
       "      <td>14.000000</td>\n",
       "      <td>15.000000</td>\n",
       "      <td>16.000000</td>\n",
       "      <td>10.000000</td>\n",
       "      <td>1.000000</td>\n",
       "      <td>...</td>\n",
       "      <td>4.000000</td>\n",
       "      <td>4.000000</td>\n",
       "      <td>3.000000</td>\n",
       "      <td>5.000000</td>\n",
       "      <td>9.000000</td>\n",
       "      <td>3.000000</td>\n",
       "      <td>3.000000</td>\n",
       "      <td>0.000000</td>\n",
       "      <td>1.000000</td>\n",
       "      <td>3.000000</td>\n",
       "    </tr>\n",
       "    <tr>\n",
       "      <th>75%</th>\n",
       "      <td>143739.250000</td>\n",
       "      <td>2.000000</td>\n",
       "      <td>1.000000</td>\n",
       "      <td>16.000000</td>\n",
       "      <td>16.000000</td>\n",
       "      <td>16.000000</td>\n",
       "      <td>17.000000</td>\n",
       "      <td>17.000000</td>\n",
       "      <td>13.000000</td>\n",
       "      <td>4.000000</td>\n",
       "      <td>...</td>\n",
       "      <td>7.000000</td>\n",
       "      <td>7.000000</td>\n",
       "      <td>4.000000</td>\n",
       "      <td>6.000000</td>\n",
       "      <td>9.000000</td>\n",
       "      <td>5.000000</td>\n",
       "      <td>3.000000</td>\n",
       "      <td>0.000000</td>\n",
       "      <td>2.000000</td>\n",
       "      <td>4.000000</td>\n",
       "    </tr>\n",
       "    <tr>\n",
       "      <th>max</th>\n",
       "      <td>191652.000000</td>\n",
       "      <td>3.000000</td>\n",
       "      <td>9.000000</td>\n",
       "      <td>21.000000</td>\n",
       "      <td>18.000000</td>\n",
       "      <td>18.000000</td>\n",
       "      <td>18.000000</td>\n",
       "      <td>18.000000</td>\n",
       "      <td>25.000000</td>\n",
       "      <td>523.000000</td>\n",
       "      <td>...</td>\n",
       "      <td>11.000000</td>\n",
       "      <td>13.000000</td>\n",
       "      <td>11.000000</td>\n",
       "      <td>6.000000</td>\n",
       "      <td>9.000000</td>\n",
       "      <td>8.000000</td>\n",
       "      <td>6.000000</td>\n",
       "      <td>1.000000</td>\n",
       "      <td>2.000000</td>\n",
       "      <td>9.000000</td>\n",
       "    </tr>\n",
       "  </tbody>\n",
       "</table>\n",
       "<p>8 rows × 361 columns</p>\n",
       "</div>"
      ],
      "text/plain": [
       "                 LNR       AGER_TYP     AKT_DAT_KL       ALTER_HH  \\\n",
       "count  191652.000000  191652.000000  145056.000000  145056.000000   \n",
       "mean    95826.500000       0.344359       1.747525      11.352009   \n",
       "std     55325.311233       1.391672       1.966334       6.275026   \n",
       "min         1.000000      -1.000000       1.000000       0.000000   \n",
       "25%     47913.750000      -1.000000       1.000000       8.000000   \n",
       "50%     95826.500000       0.000000       1.000000      11.000000   \n",
       "75%    143739.250000       2.000000       1.000000      16.000000   \n",
       "max    191652.000000       3.000000       9.000000      21.000000   \n",
       "\n",
       "        ALTER_KIND1  ALTER_KIND2  ALTER_KIND3  ALTER_KIND4  \\\n",
       "count  11766.000000  5100.000000  1275.000000   236.000000   \n",
       "mean      12.337243    13.672353    14.647059    15.377119   \n",
       "std        4.006050     3.243335     2.753787     2.307653   \n",
       "min        2.000000     2.000000     5.000000     8.000000   \n",
       "25%        9.000000    11.000000    13.000000    14.000000   \n",
       "50%       13.000000    14.000000    15.000000    16.000000   \n",
       "75%       16.000000    16.000000    17.000000    17.000000   \n",
       "max       18.000000    18.000000    18.000000    18.000000   \n",
       "\n",
       "       ALTERSKATEGORIE_FEIN  ANZ_HAUSHALTE_AKTIV  ...       VK_DHT4A  \\\n",
       "count         139810.000000        141725.000000  ...  143781.000000   \n",
       "mean              10.331579             4.965863  ...       4.374417   \n",
       "std                4.134828            14.309694  ...       2.924355   \n",
       "min                0.000000             0.000000  ...       1.000000   \n",
       "25%                9.000000             1.000000  ...       2.000000   \n",
       "50%               10.000000             1.000000  ...       4.000000   \n",
       "75%               13.000000             4.000000  ...       7.000000   \n",
       "max               25.000000           523.000000  ...      11.000000   \n",
       "\n",
       "          VK_DISTANZ        VK_ZG11  W_KEIT_KIND_HH  WOHNDAUER_2008  \\\n",
       "count  143781.000000  143781.000000   137910.000000   145056.000000   \n",
       "mean        4.564769       3.168868        4.152716        8.646371   \n",
       "std         2.887035       2.233516        1.974375        1.154001   \n",
       "min         1.000000       1.000000        0.000000        1.000000   \n",
       "25%         2.000000       1.000000        2.000000        9.000000   \n",
       "50%         4.000000       3.000000        5.000000        9.000000   \n",
       "75%         7.000000       4.000000        6.000000        9.000000   \n",
       "max        13.000000      11.000000        6.000000        9.000000   \n",
       "\n",
       "            WOHNLAGE       ZABEOTYP  ONLINE_PURCHASE      ANREDE_KZ  \\\n",
       "count  141725.000000  191652.000000    191652.000000  191652.000000   \n",
       "mean        3.723133       2.576806         0.090247       1.376432   \n",
       "std         2.095540       1.168486         0.286536       0.484492   \n",
       "min         0.000000       1.000000         0.000000       1.000000   \n",
       "25%         2.000000       1.000000         0.000000       1.000000   \n",
       "50%         3.000000       3.000000         0.000000       1.000000   \n",
       "75%         5.000000       3.000000         0.000000       2.000000   \n",
       "max         8.000000       6.000000         1.000000       2.000000   \n",
       "\n",
       "       ALTERSKATEGORIE_GROB  \n",
       "count         191652.000000  \n",
       "mean               3.060907  \n",
       "std                1.086254  \n",
       "min                1.000000  \n",
       "25%                3.000000  \n",
       "50%                3.000000  \n",
       "75%                4.000000  \n",
       "max                9.000000  \n",
       "\n",
       "[8 rows x 361 columns]"
      ]
     },
     "execution_count": 11,
     "metadata": {},
     "output_type": "execute_result"
    }
   ],
   "source": [
    "# Describe the customers dataset\n",
    "customers.describe()"
   ]
  },
  {
   "cell_type": "markdown",
   "metadata": {},
   "source": [
    "**Missing Values**\n",
    "\n",
    "Based on \"DIAS Attributes - Values 2017.xlsx\", for some attributes there is a given value which corresponds to an unknown value. Replacing those given values with NaN will provides a more accurate description of the data."
   ]
  },
  {
   "cell_type": "code",
   "execution_count": 12,
   "metadata": {},
   "outputs": [],
   "source": [
    "# Manually create set of attributes and their \"unknown\" values to turn into Nan values\n",
    "unknown_values = {'AGER_TYP': [-1],\n",
    " 'ALTERSKATEGORIE_GROB': [-1, 0],\n",
    " 'ALTER_HH': [0],\n",
    " 'ANREDE_KZ': [-1, 0],\n",
    " 'BALLRAUM': [-1],\n",
    " 'BIP_FLAG': [-1],\n",
    " 'CAMEO_DEUG_2015': [-1],\n",
    " 'CAMEO_DEUINTL_2015': [-1],\n",
    " 'CJT_GESAMTTYP': [0],\n",
    " 'D19_KK_KUNDENTYP': [-1],\n",
    " 'EWDICHTE': [-1],\n",
    " 'FINANZTYP': [-1],\n",
    " 'FINANZ_ANLEGER': [-1],\n",
    " 'FINANZ_HAUSBAUER': [-1],\n",
    " 'FINANZ_MINIMALIST': [-1],\n",
    " 'FINANZ_SPARER': [-1],\n",
    " 'FINANZ_UNAUFFAELLIGER': [-1],\n",
    " 'FINANZ_VORSORGER': [-1],\n",
    " 'GEBAEUDETYP': [-1, 0],\n",
    " 'GEOSCORE_KLS7': [-1, 0],\n",
    " 'HAUSHALTSSTRUKTUR': [-1, 0],\n",
    " 'HEALTH_TYP': [-1],\n",
    " 'HH_EINKOMMEN_SCORE': [-1, 0],\n",
    " 'INNENSTADT': [-1],\n",
    " 'KBA05_ALTER1': [-1, 9],\n",
    " 'KBA05_ALTER2': [-1, 9],\n",
    " 'KBA05_ALTER3': [-1, 9],\n",
    " 'KBA05_ALTER4': [-1, 9],\n",
    " 'KBA05_ANHANG': [-1, 9],\n",
    " 'KBA05_ANTG1': [-1],\n",
    " 'KBA05_ANTG2': [-1],\n",
    " 'KBA05_ANTG3': [-1],\n",
    " 'KBA05_ANTG4': [-1],\n",
    " 'KBA05_BAUMAX': [-1, 0],\n",
    " 'KBA05_CCM1': [-1, 9],\n",
    " 'KBA05_CCM2': [-1, 9],\n",
    " 'KBA05_CCM3': [-1, 9],\n",
    " 'KBA05_CCM4': [-1, 9],\n",
    " 'KBA05_DIESEL': [-1, 9],\n",
    " 'KBA05_FRAU': [-1, 9],\n",
    " 'KBA05_GBZ': [-1, 0],\n",
    " 'KBA05_HERST1': [-1, 9],\n",
    " 'KBA05_HERST2': [-1, 9],\n",
    " 'KBA05_HERST3': [-1, 9],\n",
    " 'KBA05_HERST4': [-1, 9],\n",
    " 'KBA05_HERST5': [-1, 9],\n",
    " 'KBA05_HERSTTEMP': [-1, 9],\n",
    " 'KBA05_KRSAQUOT': [-1, 9],\n",
    " 'KBA05_KRSHERST1': [-1, 9],\n",
    " 'KBA05_KRSHERST2': [-1, 9],\n",
    " 'KBA05_KRSHERST3': [-1, 9],\n",
    " 'KBA05_KRSKLEIN': [-1, 9],\n",
    " 'KBA05_KRSOBER': [-1, 9],\n",
    " 'KBA05_KRSVAN': [-1, 9],\n",
    " 'KBA05_KRSZUL': [-1, 9],\n",
    " 'KBA05_KW1': [-1, 9],\n",
    " 'KBA05_KW2': [-1, 9],\n",
    " 'KBA05_KW3': [-1, 9],\n",
    " 'KBA05_MAXAH': [-1, 9],\n",
    " 'KBA05_MAXBJ': [-1, 9],\n",
    " 'KBA05_MAXHERST': [-1, 9],\n",
    " 'KBA05_MAXSEG': [-1, 9],\n",
    " 'KBA05_MAXVORB': [-1, 9],\n",
    " 'KBA05_MOD1': [-1, 9],\n",
    " 'KBA05_MOD2': [-1, 9],\n",
    " 'KBA05_MOD3': [-1, 9],\n",
    " 'KBA05_MOD4': [-1, 9],\n",
    " 'KBA05_MOD8': [-1, 9],\n",
    " 'KBA05_MODTEMP': [-1, 9],\n",
    " 'KBA05_MOTOR': [-1, 9],\n",
    " 'KBA05_MOTRAD': [-1, 9],\n",
    " 'KBA05_SEG1': [-1, 9],\n",
    " 'KBA05_SEG10': [-1, 9],\n",
    " 'KBA05_SEG2': [-1, 9],\n",
    " 'KBA05_SEG3': [-1, 9],\n",
    " 'KBA05_SEG4': [-1, 9],\n",
    " 'KBA05_SEG5': [-1, 9],\n",
    " 'KBA05_SEG6': [-1, 9],\n",
    " 'KBA05_SEG7': [-1, 9],\n",
    " 'KBA05_SEG8': [-1, 9],\n",
    " 'KBA05_SEG9': [-1, 9],\n",
    " 'KBA05_VORB0': [-1, 9],\n",
    " 'KBA05_VORB1': [-1, 9],\n",
    " 'KBA05_VORB2': [-1, 9],\n",
    " 'KBA05_ZUL1': [-1, 9],\n",
    " 'KBA05_ZUL2': [-1, 9],\n",
    " 'KBA05_ZUL3': [-1, 9],\n",
    " 'KBA05_ZUL4': [-1, 9],\n",
    " 'KBA13_ALTERHALTER_30': [-1],\n",
    " 'KBA13_ALTERHALTER_45': [-1],\n",
    " 'KBA13_ALTERHALTER_60': [-1],\n",
    " 'KBA13_ALTERHALTER_61': [-1],\n",
    " 'KBA13_AUDI': [-1],\n",
    " 'KBA13_AUTOQUOTE': [-1],\n",
    " 'KBA13_BJ_1999': [-1],\n",
    " 'KBA13_BJ_2000': [-1],\n",
    " 'KBA13_BJ_2004': [-1],\n",
    " 'KBA13_BJ_2006': [-1],\n",
    " 'KBA13_BJ_2008': [-1],\n",
    " 'KBA13_BJ_2009': [-1],\n",
    " 'KBA13_BMW': [-1],\n",
    " 'KBA13_CCM_1000': [-1],\n",
    " 'KBA13_CCM_1200': [-1],\n",
    " 'KBA13_CCM_1400': [-1],\n",
    " 'KBA13_CCM_0_1400': [-1],\n",
    " 'KBA13_CCM_1500': [-1],\n",
    " 'KBA13_CCM_1400_2500': [-1],\n",
    " 'KBA13_CCM_1600': [-1],\n",
    " 'KBA13_CCM_1800': [-1],\n",
    " 'KBA13_CCM_2000': [-1],\n",
    " 'KBA13_CCM_2500': [-1],\n",
    " 'KBA13_CCM_2501': [-1],\n",
    " 'KBA13_CCM_3000': [-1],\n",
    " 'KBA13_CCM_3001': [-1],\n",
    " 'KBA13_FAB_ASIEN': [-1],\n",
    " 'KBA13_FAB_SONSTIGE': [-1],\n",
    " 'KBA13_FIAT': [-1],\n",
    " 'KBA13_FORD': [-1],\n",
    " 'KBA13_HALTER_20': [-1],\n",
    " 'KBA13_HALTER_25': [-1],\n",
    " 'KBA13_HALTER_30': [-1],\n",
    " 'KBA13_HALTER_35': [-1],\n",
    " 'KBA13_HALTER_40': [-1],\n",
    " 'KBA13_HALTER_45': [-1],\n",
    " 'KBA13_HALTER_50': [-1],\n",
    " 'KBA13_HALTER_55': [-1],\n",
    " 'KBA13_HALTER_60': [-1],\n",
    " 'KBA13_HALTER_65': [-1],\n",
    " 'KBA13_HALTER_66': [-1],\n",
    " 'KBA13_HERST_ASIEN': [-1],\n",
    " 'KBA13_HERST_AUDI_VW': [-1],\n",
    " 'KBA13_HERST_BMW_BENZ': [-1],\n",
    " 'KBA13_HERST_EUROPA': [-1],\n",
    " 'KBA13_HERST_FORD_OPEL': [-1],\n",
    " 'KBA13_HERST_SONST': [-1],\n",
    " 'KBA13_KMH_110': [-1],\n",
    " 'KBA13_KMH_140': [-1],\n",
    " 'KBA13_KMH_180': [-1],\n",
    " 'KBA13_KMH_0_140': [-1],\n",
    " 'KBA13_KMH_140_210': [-1],\n",
    " 'KBA13_KMH_211': [-1],\n",
    " 'KBA13_KMH_250': [-1],\n",
    " 'KBA13_KMH_251': [-1],\n",
    " 'KBA13_KRSAQUOT': [-1],\n",
    " 'KBA13_KRSHERST_AUDI_VW': [-1],\n",
    " 'KBA13_KRSHERST_BMW_BENZ': [-1],\n",
    " 'KBA13_KRSHERST_FORD_OPEL': [-1],\n",
    " 'KBA13_KRSSEG_KLEIN': [-1],\n",
    " 'KBA13_KRSSEG_OBER': [-1],\n",
    " 'KBA13_KRSSEG_VAN': [-1],\n",
    " 'KBA13_KRSZUL_NEU': [-1],\n",
    " 'KBA13_KW_30': [-1],\n",
    " 'KBA13_KW_40': [-1],\n",
    " 'KBA13_KW_50': [-1],\n",
    " 'KBA13_KW_60': [-1],\n",
    " 'KBA13_KW_0_60': [-1],\n",
    " 'KBA13_KW_70': [-1],\n",
    " 'KBA13_KW_61_120': [-1],\n",
    " 'KBA13_KW_80': [-1],\n",
    " 'KBA13_KW_90': [-1],\n",
    " 'KBA13_KW_110': [-1],\n",
    " 'KBA13_KW_120': [-1],\n",
    " 'KBA13_KW_121': [-1],\n",
    " 'KBA13_MAZDA': [-1],\n",
    " 'KBA13_MERCEDES': [-1],\n",
    " 'KBA13_MOTOR': [-1],\n",
    " 'KBA13_NISSAN': [-1],\n",
    " 'KBA13_OPEL': [-1],\n",
    " 'KBA13_PEUGEOT': [-1],\n",
    " 'KBA13_RENAULT': [-1],\n",
    " 'KBA13_SEG_GELAENDEWAGEN': [-1],\n",
    " 'KBA13_SEG_GROSSRAUMVANS': [-1],\n",
    " 'KBA13_SEG_KLEINST': [-1],\n",
    " 'KBA13_SEG_KLEINWAGEN': [-1],\n",
    " 'KBA13_SEG_KOMPAKTKLASSE': [-1],\n",
    " 'KBA13_SEG_MINIVANS': [-1],\n",
    " 'KBA13_SEG_MINIWAGEN': [-1],\n",
    " 'KBA13_SEG_MITTELKLASSE': [-1],\n",
    " 'KBA13_SEG_OBEREMITTELKLASSE': [-1],\n",
    " 'KBA13_SEG_OBERKLASSE': [-1],\n",
    " 'KBA13_SEG_SONSTIGE': [-1],\n",
    " 'KBA13_SEG_SPORTWAGEN': [-1],\n",
    " 'KBA13_SEG_UTILITIES': [-1],\n",
    " 'KBA13_SEG_VAN': [-1],\n",
    " 'KBA13_SEG_WOHNMOBILE': [-1],\n",
    " 'KBA13_SITZE_4': [-1],\n",
    " 'KBA13_SITZE_5': [-1],\n",
    " 'KBA13_SITZE_6': [-1],\n",
    " 'KBA13_TOYOTA': [-1],\n",
    " 'KBA13_VORB_0': [-1],\n",
    " 'KBA13_VORB_1': [-1],\n",
    " 'KBA13_VORB_1_2': [-1],\n",
    " 'KBA13_VORB_2': [-1],\n",
    " 'KBA13_VORB_3': [-1],\n",
    " 'KBA13_VW': [-1],\n",
    " 'KKK': [-1, 0],\n",
    " 'NATIONALITAET_KZ': [-1, 0],\n",
    " 'ORTSGR_KLS9': [-1],\n",
    " 'OST_WEST_KZ': [-1],\n",
    " 'PLZ8_ANTG1': [-1],\n",
    " 'PLZ8_ANTG2': [-1],\n",
    " 'PLZ8_ANTG3': [-1],\n",
    " 'PLZ8_ANTG4': [-1],\n",
    " 'PLZ8_GBZ': [-1],\n",
    " 'PLZ8_HHZ': [-1],\n",
    " 'PRAEGENDE_JUGENDJAHRE': [-1, 0],\n",
    " 'REGIOTYP': [-1, 0],\n",
    " 'RETOURTYP_BK_S': [0],\n",
    " 'SEMIO_DOM': [-1, 9],\n",
    " 'SEMIO_ERL': [-1, 9],\n",
    " 'SEMIO_FAM': [-1, 9],\n",
    " 'SEMIO_KAEM': [-1, 9],\n",
    " 'SEMIO_KRIT': [-1, 9],\n",
    " 'SEMIO_KULT': [-1, 9],\n",
    " 'SEMIO_LUST': [-1, 9],\n",
    " 'SEMIO_MAT': [-1, 9],\n",
    " 'SEMIO_PFLICHT': [-1, 9],\n",
    " 'SEMIO_RAT': [-1, 9],\n",
    " 'SEMIO_REL': [-1, 9],\n",
    " 'SEMIO_SOZ': [-1, 9],\n",
    " 'SEMIO_TRADV': [-1, 9],\n",
    " 'SEMIO_VERT': [-1, 9],\n",
    " 'SHOPPER_TYP': [-1],\n",
    " 'SOHO_FLAG': [-1],\n",
    " 'TITEL_KZ': [-1, 0],\n",
    " 'VERS_TYP': [-1],\n",
    " 'WOHNDAUER_2008': [-1, 0],\n",
    " 'WOHNLAGE': [-1],\n",
    " 'WACHSTUMSGEBIET_NB': [-1, 0],\n",
    " 'W_KEIT_KIND_HH': [-1, 0],\n",
    " 'ZABEOTYP': [-1, 9]}"
   ]
  },
  {
   "cell_type": "code",
   "execution_count": 13,
   "metadata": {},
   "outputs": [],
   "source": [
    "# Replace unknown values in dataset with NaN\n",
    "for attribute in unknown_values:\n",
    "    # Check if attribute is in dataframe\n",
    "    if attribute in azdias.columns:       \n",
    "        for key in unknown_values[attribute]:\n",
    "            azdias[attribute].replace(key, np.NaN, inplace=True)"
   ]
  },
  {
   "cell_type": "markdown",
   "metadata": {},
   "source": [
    "**Missing Data**"
   ]
  },
  {
   "cell_type": "code",
   "execution_count": 14,
   "metadata": {},
   "outputs": [],
   "source": [
    "# Get number and percent of missing data\n",
    "azdias_null = azdias.isnull().sum()\n",
    "azdias_null_percent = azdias_null / len(azdias) * 100"
   ]
  },
  {
   "cell_type": "code",
   "execution_count": 15,
   "metadata": {},
   "outputs": [
    {
     "data": {
      "text/plain": [
       "Text(0, 0.5, 'Percent of missing values %')"
      ]
     },
     "execution_count": 15,
     "metadata": {},
     "output_type": "execute_result"
    },
    {
     "data": {
      "image/png": "[encoded data removed]",
      "text/plain": [
       "<Figure size 1152x576 with 1 Axes>"
      ]
     },
     "metadata": {
      "needs_background": "light"
     },
     "output_type": "display_data"
    }
   ],
   "source": [
    "# Plot 50 columns with highest share of missing values\n",
    "ax = azdias_null_percent.sort_values(ascending=False).head(50).plot(kind='bar', figsize=(16,8), title='Top 50 missing columns')\n",
    "ax.set_xlabel(\"Column name\")\n",
    "ax.set_ylabel(\"Percent of missing values %\")\n",
    "#ax.figure.savefig('top_missing.png', dpi=500);"
   ]
  },
  {
   "cell_type": "code",
   "execution_count": 16,
   "metadata": {},
   "outputs": [
    {
     "name": "stdout",
     "output_type": "stream",
     "text": [
      "On average, columns have 11.4% of missing data.\n"
     ]
    }
   ],
   "source": [
    "print(\"On average, columns have {}% of missing data.\".format(round(azdias_null_percent.mean(),1)))"
   ]
  },
  {
   "cell_type": "code",
   "execution_count": 17,
   "metadata": {},
   "outputs": [
    {
     "name": "stdout",
     "output_type": "stream",
     "text": [
      "97% of columns have 28.9% or less missing data.\n"
     ]
    }
   ],
   "source": [
    "print(\"97% of columns have {}% or less missing data.\".format(round(azdias_null_percent.quantile(0.97),1)))"
   ]
  },
  {
   "cell_type": "code",
   "execution_count": 18,
   "metadata": {},
   "outputs": [
    {
     "name": "stdout",
     "output_type": "stream",
     "text": [
      "98% of columns have 62.0% or less missing data.\n"
     ]
    }
   ],
   "source": [
    "print(\"98% of columns have {}% or less missing data.\".format(round(azdias_null_percent.quantile(0.98),1)))"
   ]
  },
  {
   "cell_type": "markdown",
   "metadata": {},
   "source": [
    "There is a jump in the percentage of missing data in the column from 97% of the columns to 98% of the columns. This is a good point at which to drop columns. We could drop all columns that have more than 30% missing data. Looking at the graph of missing data percentages, though, it looks like we should drop columns with more than 40% missing data."
   ]
  },
  {
   "cell_type": "code",
   "execution_count": 19,
   "metadata": {},
   "outputs": [
    {
     "name": "stdout",
     "output_type": "stream",
     "text": [
      "9 columns that have more than 40% missing values will be dropped: ['AGER_TYP', 'ALTER_KIND1', 'ALTER_KIND2', 'ALTER_KIND3', 'ALTER_KIND4', 'EXTSEL992', 'KBA05_BAUMAX', 'KK_KUNDENTYP', 'TITEL_KZ']\n"
     ]
    }
   ],
   "source": [
    "drop_null_cols = list(azdias_null_percent[azdias_null_percent>40].index)\n",
    "print(\"{} columns that have more than 40% missing values will be dropped: {}\".format(len(drop_null_cols),drop_null_cols))"
   ]
  },
  {
   "cell_type": "code",
   "execution_count": 20,
   "metadata": {},
   "outputs": [],
   "source": [
    "azdias_clean = azdias.drop(drop_null_cols, axis=1)"
   ]
  },
  {
   "cell_type": "markdown",
   "metadata": {},
   "source": [
    "Let's also clean up the EINGEFUEGT_AM column so that it is in the proper date format"
   ]
  },
  {
   "cell_type": "code",
   "execution_count": 21,
   "metadata": {},
   "outputs": [],
   "source": [
    "azdias_clean['EINGEFUEGT_AM'] = pd.to_datetime(azdias_clean['EINGEFUEGT_AM'], format='%Y-%m-%d ').dt.year"
   ]
  },
  {
   "cell_type": "markdown",
   "metadata": {},
   "source": [
    "Let's also clean up the OST_WEST_KZ column by making the entries 'O' and 'W' numeric as 0 and 1."
   ]
  },
  {
   "cell_type": "code",
   "execution_count": 22,
   "metadata": {},
   "outputs": [],
   "source": [
    "azdias_clean['OST_WEST_KZ'].replace('O', 0, inplace=True)\n",
    "azdias_clean['OST_WEST_KZ'].replace('W', 1, inplace=True)\n",
    "azdias_clean['OST_WEST_KZ'] = pd.to_numeric(azdias_clean['OST_WEST_KZ'], errors = 'coerce')"
   ]
  },
  {
   "cell_type": "markdown",
   "metadata": {},
   "source": [
    "**Rows with Missing Data**"
   ]
  },
  {
   "cell_type": "code",
   "execution_count": 23,
   "metadata": {},
   "outputs": [
    {
     "data": {
      "image/png": "[encoded data removed]",
      "text/plain": [
       "<Figure size 1152x432 with 1 Axes>"
      ]
     },
     "metadata": {
      "needs_background": "light"
     },
     "output_type": "display_data"
    }
   ],
   "source": [
    "# Plot distribution of missing values\n",
    "x = azdias_clean.isnull().sum(axis=1)\n",
    "plt.figure(figsize=(16,6))\n",
    "plt.hist(x, bins=np.linspace(min(x), max(x)+1))\n",
    "\n",
    "plt.xticks(np.arange(min(x), max(x)+1, 10))\n",
    "plt.ylabel('# of rows')\n",
    "plt.xlabel('# of missing values')\n",
    "plt.title('Distribution of missing values');"
   ]
  },
  {
   "cell_type": "code",
   "execution_count": 24,
   "metadata": {},
   "outputs": [
    {
     "data": {
      "image/png": "[encoded data removed]",
      "text/plain": [
       "<Figure size 1152x432 with 1 Axes>"
      ]
     },
     "metadata": {
      "needs_background": "light"
     },
     "output_type": "display_data"
    }
   ],
   "source": [
    "x = (azdias_clean.isnull().sum(axis=1).value_counts().sort_index().cumsum()/len(azdias_clean)) * 100\n",
    "plt.figure(figsize=(16,6))\n",
    "plt.plot(x)\n",
    "\n",
    "plt.yticks(np.arange(0, 100+5, 5))\n",
    "plt.xticks(np.arange(min(x.index), max(x.index)+1, 10))\n",
    "plt.ylabel('Share of rows %')\n",
    "plt.xlabel('# of missing values')\n",
    "plt.title('Cumulative Distribution of missing values')\n",
    "plt.savefig('dist_missing_rows.png', dpi=500);"
   ]
  },
  {
   "cell_type": "code",
   "execution_count": 25,
   "metadata": {},
   "outputs": [
    {
     "name": "stdout",
     "output_type": "stream",
     "text": [
      "Percentage of \"good\" rows: 0     41.0\n",
      "1     50.0\n",
      "2     58.0\n",
      "3     60.0\n",
      "4     62.0\n",
      "5     62.0\n",
      "6     63.0\n",
      "7     63.0\n",
      "8     64.0\n",
      "9     70.0\n",
      "10    71.0\n",
      "11    79.0\n",
      "12    79.0\n",
      "13    80.0\n",
      "14    81.0\n",
      "15    81.0\n",
      "16    81.0\n",
      "17    82.0\n",
      "18    82.0\n",
      "19    82.0\n",
      "20    82.0\n",
      "21    82.0\n",
      "22    82.0\n",
      "23    83.0\n",
      "24    83.0\n",
      "25    83.0\n",
      "26    83.0\n",
      "27    83.0\n",
      "28    83.0\n",
      "29    83.0\n",
      "dtype: float64\n"
     ]
    }
   ],
   "source": [
    "# Percentage of rows that have less than the number of missing values\n",
    "\n",
    "print(\"Percentage of \\\"good\\\" rows:\",round(azdias_clean.isnull().sum(axis=1).value_counts().sort_index().cumsum()[:30]/azdias_clean.isnull().sum(axis=1).shape[0]*100,0))"
   ]
  },
  {
   "cell_type": "code",
   "execution_count": 26,
   "metadata": {},
   "outputs": [
    {
     "name": "stdout",
     "output_type": "stream",
     "text": [
      "number of rows in new dataset:  701432\n"
     ]
    }
   ],
   "source": [
    "# Drop all rows with more than 11 values missing\n",
    "azdias_clean = azdias_clean[azdias_clean.isnull().sum(axis=1) <= 11].reset_index(drop=True)\n",
    "print('number of rows in new dataset: ',azdias_clean.shape[0])"
   ]
  },
  {
   "cell_type": "markdown",
   "metadata": {},
   "source": [
    "Prep the customers dataset and clean in the same way"
   ]
  },
  {
   "cell_type": "code",
   "execution_count": 27,
   "metadata": {},
   "outputs": [],
   "source": [
    "customers_clean = customers.drop(['CUSTOMER_GROUP', 'ONLINE_PURCHASE', 'PRODUCT_GROUP'], axis=1)"
   ]
  },
  {
   "cell_type": "code",
   "execution_count": 28,
   "metadata": {},
   "outputs": [
    {
     "name": "stdout",
     "output_type": "stream",
     "text": [
      "number of rows in new dataset:  131987\n"
     ]
    }
   ],
   "source": [
    "customers_clean = customers_clean.drop(drop_null_cols, axis=1)\n",
    "customers_clean['EINGEFUEGT_AM'] = pd.to_datetime(customers_clean['EINGEFUEGT_AM'], format='%Y-%m-%d ').dt.year\n",
    "customers_clean['OST_WEST_KZ'].replace('O', 0, inplace=True)\n",
    "customers_clean['OST_WEST_KZ'].replace('W', 1, inplace=True)\n",
    "customers_clean['OST_WEST_KZ'] = pd.to_numeric(azdias_clean['OST_WEST_KZ'], errors = 'coerce')\n",
    "customers_clean = customers_clean[customers_clean.isnull().sum(axis=1) <= 11].reset_index(drop=True)\n",
    "print('number of rows in new dataset: ',customers_clean.shape[0])"
   ]
  },
  {
   "cell_type": "code",
   "execution_count": 29,
   "metadata": {},
   "outputs": [
    {
     "data": {
      "text/plain": [
       "(891221, 366)"
      ]
     },
     "execution_count": 29,
     "metadata": {},
     "output_type": "execute_result"
    }
   ],
   "source": [
    "azdias.shape"
   ]
  },
  {
   "cell_type": "code",
   "execution_count": 30,
   "metadata": {},
   "outputs": [
    {
     "data": {
      "text/plain": [
       "(701432, 357)"
      ]
     },
     "execution_count": 30,
     "metadata": {},
     "output_type": "execute_result"
    }
   ],
   "source": [
    "azdias_clean.shape"
   ]
  },
  {
   "cell_type": "code",
   "execution_count": 31,
   "metadata": {},
   "outputs": [
    {
     "data": {
      "text/plain": [
       "(191652, 369)"
      ]
     },
     "execution_count": 31,
     "metadata": {},
     "output_type": "execute_result"
    }
   ],
   "source": [
    "customers.shape"
   ]
  },
  {
   "cell_type": "code",
   "execution_count": 32,
   "metadata": {},
   "outputs": [
    {
     "data": {
      "text/plain": [
       "(131987, 357)"
      ]
     },
     "execution_count": 32,
     "metadata": {},
     "output_type": "execute_result"
    }
   ],
   "source": [
    "customers_clean.shape"
   ]
  },
  {
   "cell_type": "code",
   "execution_count": 33,
   "metadata": {},
   "outputs": [],
   "source": [
    "# Reduce number of columns further by removing highly correlated columns\n",
    "# see Chris Albon's website https://chrisalbon.com/machine_learning/feature_selection/drop_highly_correlated_features/\n",
    "\n",
    "# find correlation matrix    \n",
    "corr_matrix = azdias_clean.corr().abs()\n",
    "upper_limit = corr_matrix.where(np.triu(np.ones(corr_matrix.shape), k=1).astype(np.bool))\n",
    "\n",
    "# identify columns to drop based on threshold limit\n",
    "drop_columns = [column for column in upper_limit.columns if any(upper_limit[column] > .7)]\n",
    "\n",
    "# drop columns from azdias_clean\n",
    "azdias_clean = azdias_clean.drop(drop_columns, axis=1)\n",
    "\n",
    "# repeat for customers\n",
    "\n",
    "# find correlation matrix    \n",
    "#corr_matrix = customers_clean.corr().abs()\n",
    "#upper_limit = corr_matrix.where(np.triu(np.ones(corr_matrix.shape), k=1).astype(np.bool))\n",
    "\n",
    "# identify columns to drop based on threshold limit\n",
    "#drop_columns = [column for column in upper_limit.columns if any(upper_limit[column] > .7)]\n",
    "\n",
    "# drop columns from customers_clean\n",
    "customers_clean = customers_clean.drop(drop_columns, axis=1)"
   ]
  },
  {
   "cell_type": "code",
   "execution_count": 34,
   "metadata": {},
   "outputs": [
    {
     "data": {
      "text/plain": [
       "(701432, 250)"
      ]
     },
     "execution_count": 34,
     "metadata": {},
     "output_type": "execute_result"
    }
   ],
   "source": [
    "azdias_clean.shape"
   ]
  },
  {
   "cell_type": "code",
   "execution_count": 35,
   "metadata": {},
   "outputs": [
    {
     "data": {
      "text/plain": [
       "(131987, 250)"
      ]
     },
     "execution_count": 35,
     "metadata": {},
     "output_type": "execute_result"
    }
   ],
   "source": [
    "customers_clean.shape"
   ]
  },
  {
   "cell_type": "markdown",
   "metadata": {},
   "source": [
    "### Impute, transform, and standardize features\n",
    "\n",
    "**Classify attribute types and build pipelines**\n",
    "\n",
    "Skewed continuous: Continuous numbers that are highly skewed should be log-transformed first before imputation. Missing values are then median imputed after transformation.\n",
    "\n",
    "Binary: Missing values will be imputed based on the most common value.\n",
    "\n",
    "Categorical: Categorical values will be one-hot encoded and then imputed based on the most common value.\n",
    "\n",
    "Numerical: Missing values will be imputed based on the median value."
   ]
  },
  {
   "cell_type": "markdown",
   "metadata": {},
   "source": [
    "**Skewed Continuous**"
   ]
  },
  {
   "cell_type": "code",
   "execution_count": 36,
   "metadata": {},
   "outputs": [],
   "source": [
    "# Get the continuous columns manually\n",
    "continuous_cols = ['ANZ_HAUSHALTE_AKTIV', 'ANZ_HH_TITEL', 'ANZ_PERSONEN', 'ANZ_TITEL', 'KBA13_ANZAHL_PKW']"
   ]
  },
  {
   "cell_type": "code",
   "execution_count": 37,
   "metadata": {},
   "outputs": [],
   "source": [
    "skewed_cols = []\n",
    "for col in continuous_cols:\n",
    "    if abs(skew(azdias_clean[col].dropna())) > 1:\n",
    "        skewed_cols.append(col)\n"
   ]
  },
  {
   "cell_type": "code",
   "execution_count": 38,
   "metadata": {},
   "outputs": [
    {
     "data": {
      "text/plain": [
       "['ANZ_HAUSHALTE_AKTIV',\n",
       " 'ANZ_HH_TITEL',\n",
       " 'ANZ_PERSONEN',\n",
       " 'ANZ_TITEL',\n",
       " 'KBA13_ANZAHL_PKW']"
      ]
     },
     "execution_count": 38,
     "metadata": {},
     "output_type": "execute_result"
    }
   ],
   "source": [
    "skewed_cols"
   ]
  },
  {
   "cell_type": "code",
   "execution_count": 39,
   "metadata": {},
   "outputs": [],
   "source": [
    "# Transform-impute Pipeline\n",
    "skew_pipeline = Pipeline([\n",
    "    ('log_transform', FunctionTransformer(np.log1p)),\n",
    "    ('log_impute', SimpleImputer(missing_values=np.nan, strategy='median')),\n",
    "    ('log_scale', StandardScaler())\n",
    "])"
   ]
  },
  {
   "cell_type": "markdown",
   "metadata": {},
   "source": [
    "**Binary**"
   ]
  },
  {
   "cell_type": "code",
   "execution_count": null,
   "metadata": {},
   "outputs": [],
   "source": []
  },
  {
   "cell_type": "code",
   "execution_count": 40,
   "metadata": {},
   "outputs": [],
   "source": [
    "num_cols = azdias_clean.select_dtypes(['float64', 'int64']).columns\n",
    "binary_cols = []\n",
    "for col in num_cols:\n",
    "    n_unique = azdias_clean[col].dropna().nunique()\n",
    "    if n_unique == 2:\n",
    "        binary_cols.append(col)"
   ]
  },
  {
   "cell_type": "code",
   "execution_count": 41,
   "metadata": {},
   "outputs": [
    {
     "data": {
      "text/plain": [
       "['DSL_FLAG',\n",
       " 'GREEN_AVANTGARDE',\n",
       " 'HH_DELTA_FLAG',\n",
       " 'KBA05_SEG6',\n",
       " 'SOHO_KZ',\n",
       " 'UNGLEICHENN_FLAG',\n",
       " 'VERS_TYP']"
      ]
     },
     "execution_count": 41,
     "metadata": {},
     "output_type": "execute_result"
    }
   ],
   "source": [
    "binary_cols"
   ]
  },
  {
   "cell_type": "code",
   "execution_count": 42,
   "metadata": {},
   "outputs": [],
   "source": [
    "# Transform-impute Pipeline\n",
    "binary_pipeline = Pipeline([\n",
    "    ('bin_impute', SimpleImputer(missing_values=np.nan, strategy='most_frequent'))\n",
    "])"
   ]
  },
  {
   "cell_type": "markdown",
   "metadata": {},
   "source": [
    "**Categorical**"
   ]
  },
  {
   "cell_type": "code",
   "execution_count": 43,
   "metadata": {},
   "outputs": [],
   "source": [
    "categorical_cols = list(azdias_clean.select_dtypes(['object']).columns)"
   ]
  },
  {
   "cell_type": "code",
   "execution_count": 44,
   "metadata": {},
   "outputs": [
    {
     "data": {
      "text/plain": [
       "['CAMEO_DEU_2015',\n",
       " 'CAMEO_DEUG_2015',\n",
       " 'CAMEO_INTL_2015',\n",
       " 'D19_LETZTER_KAUF_BRANCHE']"
      ]
     },
     "execution_count": 44,
     "metadata": {},
     "output_type": "execute_result"
    }
   ],
   "source": [
    "categorical_cols"
   ]
  },
  {
   "cell_type": "code",
   "execution_count": 45,
   "metadata": {},
   "outputs": [],
   "source": [
    "# Transform-impute Pipeline\n",
    "categorical_pipeline = Pipeline([\n",
    "    ('bin_impute', SimpleImputer(missing_values=np.nan, strategy='most_frequent')),\n",
    "    ('onehot', OneHotEncoder(handle_unknown='ignore'))\n",
    "])"
   ]
  },
  {
   "cell_type": "markdown",
   "metadata": {},
   "source": [
    "**Numerical**"
   ]
  },
  {
   "cell_type": "code",
   "execution_count": 46,
   "metadata": {},
   "outputs": [],
   "source": [
    "numerical_cols = list(set(azdias_clean.columns) - set(skewed_cols) - set(binary_cols) - set(categorical_cols))"
   ]
  },
  {
   "cell_type": "code",
   "execution_count": 47,
   "metadata": {},
   "outputs": [
    {
     "data": {
      "text/plain": [
       "['LNR',\n",
       " 'AKT_DAT_KL',\n",
       " 'D19_BANKEN_LOKAL',\n",
       " 'KBA05_HERST1',\n",
       " 'KBA05_SEG7',\n",
       " 'FINANZ_MINIMALIST',\n",
       " 'KBA05_SEG8',\n",
       " 'D19_WEIN_FEINKOST',\n",
       " 'KBA13_SEG_KLEINST',\n",
       " 'D19_BANKEN_REST',\n",
       " 'KBA05_HERST2',\n",
       " 'SHOPPER_TYP',\n",
       " 'KBA13_ALTERHALTER_45',\n",
       " 'KBA13_KRSSEG_KLEIN',\n",
       " 'D19_SOZIALES',\n",
       " 'KBA13_SEG_UTILITIES',\n",
       " 'D19_DROGERIEARTIKEL',\n",
       " 'D19_VERSI_ONLINE_DATUM',\n",
       " 'D19_BANKEN_GROSS',\n",
       " 'KBA05_KRSZUL',\n",
       " 'KBA13_VORB_1_2',\n",
       " 'KBA05_HERSTTEMP',\n",
       " 'FINANZ_HAUSBAUER',\n",
       " 'KBA13_KMH_140_210',\n",
       " 'KBA13_FAB_SONSTIGE',\n",
       " 'KBA13_VORB_0',\n",
       " 'SEMIO_MAT',\n",
       " 'KBA13_SITZE_4',\n",
       " 'D19_SAMMELARTIKEL',\n",
       " 'KBA05_MODTEMP',\n",
       " 'KBA13_ANTG1',\n",
       " 'KBA13_BJ_1999',\n",
       " 'ZABEOTYP',\n",
       " 'KBA13_CCM_0_1400',\n",
       " 'W_KEIT_KIND_HH',\n",
       " 'D19_VERSICHERUNGEN',\n",
       " 'KBA05_MAXVORB',\n",
       " 'KBA05_HERST4',\n",
       " 'SEMIO_FAM',\n",
       " 'SEMIO_ERL',\n",
       " 'KBA13_AUDI',\n",
       " 'ALTER_HH',\n",
       " 'VHN',\n",
       " 'KBA13_SEG_MITTELKLASSE',\n",
       " 'D19_GESAMT_OFFLINE_DATUM',\n",
       " 'EINGEFUEGT_AM',\n",
       " 'D19_BEKLEIDUNG_REST',\n",
       " 'WOHNLAGE',\n",
       " 'D19_FREIZEIT',\n",
       " 'KBA13_SEG_SPORTWAGEN',\n",
       " 'D19_TECHNIK',\n",
       " 'KBA13_FORD',\n",
       " 'KBA05_SEG3',\n",
       " 'KBA13_SEG_OBERKLASSE',\n",
       " 'D19_BANKEN_DIREKT',\n",
       " 'D19_KOSMETIK',\n",
       " 'D19_HAUS_DEKO',\n",
       " 'KBA13_HERST_AUDI_VW',\n",
       " 'FIRMENDICHTE',\n",
       " 'KBA13_CCM_2500',\n",
       " 'KBA13_SEG_KOMPAKTKLASSE',\n",
       " 'KBA13_SEG_WOHNMOBILE',\n",
       " 'KBA13_BJ_2004',\n",
       " 'SEMIO_TRADV',\n",
       " 'RETOURTYP_BK_S',\n",
       " 'D19_VERSI_OFFLINE_DATUM',\n",
       " 'KBA13_KRSSEG_VAN',\n",
       " 'KBA13_CCM_2000',\n",
       " 'KBA05_ALTER3',\n",
       " 'SEMIO_KRIT',\n",
       " 'KBA05_ANTG2',\n",
       " 'D19_VOLLSORTIMENT',\n",
       " 'D19_ENERGIE',\n",
       " 'RT_KEIN_ANREIZ',\n",
       " 'D19_TIERARTIKEL',\n",
       " 'KBA13_BJ_2008',\n",
       " 'KBA13_SEG_MINIWAGEN',\n",
       " 'KBA05_ANTG4',\n",
       " 'KBA05_ZUL3',\n",
       " 'KBA13_CCM_1000',\n",
       " 'D19_KINDERARTIKEL',\n",
       " 'KBA05_ALTER2',\n",
       " 'FINANZTYP',\n",
       " 'KBA05_KW3',\n",
       " 'D19_TELKO_REST',\n",
       " 'CJT_KATALOGNUTZER',\n",
       " 'KBA13_KRSAQUOT',\n",
       " 'KBA05_KRSOBER',\n",
       " 'KBA13_KW_40',\n",
       " 'KBA13_ALTERHALTER_60',\n",
       " 'KBA13_VORB_3',\n",
       " 'KBA13_HALTER_20',\n",
       " 'KBA13_KW_80',\n",
       " 'KBA13_MOTOR',\n",
       " 'KBA13_CCM_1800',\n",
       " 'KBA13_SEG_GROSSRAUMVANS',\n",
       " 'NATIONALITAET_KZ',\n",
       " 'KBA13_NISSAN',\n",
       " 'KBA13_HERST_FORD_OPEL',\n",
       " 'KBA05_HERST5',\n",
       " 'KBA13_KRSHERST_AUDI_VW',\n",
       " 'KBA13_KMH_210',\n",
       " 'KBA13_HALTER_65',\n",
       " 'KBA05_MAXBJ',\n",
       " 'EWDICHTE',\n",
       " 'KBA13_HERST_ASIEN',\n",
       " 'HH_EINKOMMEN_SCORE',\n",
       " 'KBA13_ALTERHALTER_30',\n",
       " 'D19_SONSTIGE',\n",
       " 'KBA05_ZUL1',\n",
       " 'KBA13_KRSZUL_NEU',\n",
       " 'D19_BIO_OEKO',\n",
       " 'KBA05_HERST3',\n",
       " 'KBA13_KW_60',\n",
       " 'KBA13_BJ_2009',\n",
       " 'KBA05_MOD2',\n",
       " 'SEMIO_RAT',\n",
       " 'KBA05_GBZ',\n",
       " 'KBA13_SEG_SONSTIGE',\n",
       " 'D19_BANKEN_OFFLINE_DATUM',\n",
       " 'D19_RATGEBER',\n",
       " 'HEALTH_TYP',\n",
       " 'D19_SCHUHE',\n",
       " 'KBA05_MOD3',\n",
       " 'D19_LEBENSMITTEL',\n",
       " 'KBA05_DIESEL',\n",
       " 'KBA13_BMW',\n",
       " 'KBA13_KW_110',\n",
       " 'SEMIO_DOM',\n",
       " 'KBA13_HALTER_60',\n",
       " 'D19_VERSI_ANZ_12',\n",
       " 'KBA13_FIAT',\n",
       " 'KBA05_MOD1',\n",
       " 'RELAT_AB',\n",
       " 'KBA05_ALTER1',\n",
       " 'D19_LOTTO',\n",
       " 'ARBEIT',\n",
       " 'CJT_GESAMTTYP',\n",
       " 'D19_BANKEN_ANZ_12',\n",
       " 'GFK_URLAUBERTYP',\n",
       " 'KBA05_ANTG1',\n",
       " 'KBA13_RENAULT',\n",
       " 'KBA13_CCM_1400',\n",
       " 'KBA05_CCM3',\n",
       " 'KBA05_MOTOR',\n",
       " 'D19_REISEN',\n",
       " 'KBA05_ALTER4',\n",
       " 'D19_TELKO_ANZ_12',\n",
       " 'KBA05_ANTG3',\n",
       " 'D19_TELKO_OFFLINE_DATUM',\n",
       " 'KBA05_MAXHERST',\n",
       " 'KBA05_VORB2',\n",
       " 'KBA13_CCM_1500',\n",
       " 'ANZ_KINDER',\n",
       " 'KBA13_CCM_3001',\n",
       " 'KBA13_TOYOTA',\n",
       " 'D19_HANDWERK',\n",
       " 'KBA05_CCM4',\n",
       " 'KBA13_KMH_110',\n",
       " 'KBA05_CCM1',\n",
       " 'D19_NAHRUNGSERGAENZUNG',\n",
       " 'D19_BUCH_CD',\n",
       " 'KBA13_ALTERHALTER_61',\n",
       " 'KBA13_AUTOQUOTE',\n",
       " 'KBA13_KW_70',\n",
       " 'KBA13_CCM_2501',\n",
       " 'KBA13_KW_121',\n",
       " 'KBA13_HALTER_45',\n",
       " 'KBA13_BJ_2006',\n",
       " 'KBA13_FAB_ASIEN',\n",
       " 'KBA13_CCM_1600',\n",
       " 'KBA05_AUTOQUOT',\n",
       " 'KBA05_FRAU',\n",
       " 'VERDICHTUNGSRAUM',\n",
       " 'CJT_TYP_1',\n",
       " 'KBA05_VORB1',\n",
       " 'KBA13_CCM_1200',\n",
       " 'KBA13_KW_50',\n",
       " 'KBA05_MAXSEG',\n",
       " 'SEMIO_PFLICHT',\n",
       " 'KBA05_SEG1',\n",
       " 'KBA13_KW_0_60',\n",
       " 'KBA13_KW_90',\n",
       " 'D19_GARTEN',\n",
       " 'KBA05_MOD4',\n",
       " 'KKK',\n",
       " 'KBA13_ANTG2',\n",
       " 'KBA05_VORB0',\n",
       " 'D19_GESAMT_ANZ_12',\n",
       " 'KBA05_SEG10',\n",
       " 'KBA13_SITZE_6',\n",
       " 'KBA13_KRSHERST_BMW_BENZ',\n",
       " 'KBA13_CCM_3000',\n",
       " 'UMFELD_JUNG',\n",
       " 'RT_UEBERGROESSE',\n",
       " 'KBA05_SEG4',\n",
       " 'VHA',\n",
       " 'EINGEZOGENAM_HH_JAHR',\n",
       " 'KBA05_CCM2',\n",
       " 'D19_DIGIT_SERV',\n",
       " 'SEMIO_SOZ',\n",
       " 'FINANZ_ANLEGER',\n",
       " 'KBA13_KMH_251',\n",
       " 'KBA13_HERST_EUROPA',\n",
       " 'KBA13_KRSSEG_OBER',\n",
       " 'UMFELD_ALT',\n",
       " 'D19_TELKO_ONLINE_DATUM',\n",
       " 'KBA13_SEG_GELAENDEWAGEN',\n",
       " 'KBA13_KMH_0_140',\n",
       " 'D19_TELKO_MOBILE',\n",
       " 'KBA05_MOTRAD',\n",
       " 'SEMIO_LUST',\n",
       " 'KBA05_ZUL2',\n",
       " 'KBA05_KRSKLEIN',\n",
       " 'BALLRAUM',\n",
       " 'RT_SCHNAEPPCHEN',\n",
       " 'GEBURTSJAHR',\n",
       " 'MOBI_RASTER',\n",
       " 'KBA13_MAZDA',\n",
       " 'GEBAEUDETYP',\n",
       " 'D19_BEKLEIDUNG_GEH',\n",
       " 'KBA05_KRSVAN',\n",
       " 'KBA05_MAXAH',\n",
       " 'KONSUMNAEHE',\n",
       " 'D19_BILDUNG',\n",
       " 'KBA13_PEUGEOT',\n",
       " 'D19_VERSAND_REST',\n",
       " 'KBA13_CCM_1401_2500',\n",
       " 'KBA13_KMH_180',\n",
       " 'KBA05_MOD8',\n",
       " 'KBA13_KW_120',\n",
       " 'KBA13_SEG_OBEREMITTELKLASSE',\n",
       " 'KBA05_KW1',\n",
       " 'KBA05_ANHANG']"
      ]
     },
     "execution_count": 47,
     "metadata": {},
     "output_type": "execute_result"
    }
   ],
   "source": [
    "numerical_cols"
   ]
  },
  {
   "cell_type": "code",
   "execution_count": 48,
   "metadata": {},
   "outputs": [],
   "source": [
    "# Transform-impute Pipeline\n",
    "numerical_pipeline = Pipeline([\n",
    "    ('num_impute', SimpleImputer(missing_values=np.nan, strategy='median')),\n",
    "    ('num_scale', StandardScaler())\n",
    "])"
   ]
  },
  {
   "cell_type": "markdown",
   "metadata": {},
   "source": [
    "**Combine Pipelines**"
   ]
  },
  {
   "cell_type": "code",
   "execution_count": 49,
   "metadata": {},
   "outputs": [],
   "source": [
    "transformers = [('skewed', skew_pipeline, skewed_cols),\n",
    "               ('binary', binary_pipeline, binary_cols),\n",
    "               ('categorical', categorical_pipeline, categorical_cols),\n",
    "               ('numerical', numerical_pipeline, numerical_cols)]\n",
    "column_transformer = ColumnTransformer(transformers = transformers)"
   ]
  },
  {
   "cell_type": "markdown",
   "metadata": {},
   "source": [
    "**Transform Features**"
   ]
  },
  {
   "cell_type": "code",
   "execution_count": 50,
   "metadata": {},
   "outputs": [],
   "source": [
    "azdias_trans = column_transformer.fit_transform(azdias_clean)\n",
    "\n",
    "# Get column names from one hot encoded features\n",
    "dummy_cols = list(column_transformer.transformers_[2][1].named_steps['onehot'].get_feature_names(categorical_cols))\n",
    "\n",
    "# Create list of column names for transformed dataframe\n",
    "column_names = skewed_cols + binary_cols + dummy_cols + numerical_cols\n",
    "\n",
    "# Create transformed dataframe\n",
    "azdias_trans = pd.DataFrame(azdias_trans, columns=[column_names])"
   ]
  },
  {
   "cell_type": "code",
   "execution_count": 51,
   "metadata": {},
   "outputs": [
    {
     "data": {
      "text/plain": [
       "float64    358\n",
       "dtype: int64"
      ]
     },
     "execution_count": 51,
     "metadata": {},
     "output_type": "execute_result"
    }
   ],
   "source": [
    "# Check if all features are numerical\n",
    "azdias_trans.dtypes.value_counts()"
   ]
  },
  {
   "cell_type": "markdown",
   "metadata": {},
   "source": [
    "## Part 1: Customer Segmentation Report\n",
    "\n",
    "The main bulk of your analysis will come in this part of the project. Here, you should use unsupervised learning techniques to describe the relationship between the demographics of the company's existing customers and the general population of Germany. By the end of this part, you should be able to describe parts of the general population that are more likely to be part of the mail-order company's main customer base, and which parts of the general population are less so."
   ]
  },
  {
   "cell_type": "markdown",
   "metadata": {},
   "source": [
    "There are 358 features in the cleaned and transformed azdias dataset. Principal Component Analysis can be used to reduce the feature range."
   ]
  },
  {
   "cell_type": "code",
   "execution_count": 52,
   "metadata": {},
   "outputs": [
    {
     "data": {
      "image/png": "[encoded data removed]",
      "text/plain": [
       "<Figure size 432x288 with 1 Axes>"
      ]
     },
     "metadata": {
      "needs_background": "light"
     },
     "output_type": "display_data"
    }
   ],
   "source": [
    "# Fit PCA object\n",
    "pca = PCA().fit(azdias_trans)\n",
    "\n",
    "# Plot scree plot\n",
    "plt.plot(np.cumsum(pca.explained_variance_ratio_))\n",
    "plt.xlabel('number of components')\n",
    "plt.ylabel('cumulative explained variance')\n",
    "plt.show()"
   ]
  },
  {
   "cell_type": "code",
   "execution_count": 53,
   "metadata": {},
   "outputs": [
    {
     "name": "stdout",
     "output_type": "stream",
     "text": [
      "95% threshold of variance explained by 192 components.\n"
     ]
    }
   ],
   "source": [
    "cum_variance = pd.DataFrame(np.cumsum(pca.explained_variance_ratio_), columns=['cumulative_variance'])\n",
    "cum_variance.set_index(cum_variance.index+1, inplace=True)\n",
    "\n",
    "print('95% threshold of variance explained by {} components.'.format(cum_variance[cum_variance['cumulative_variance']>.95].index[0]))"
   ]
  },
  {
   "cell_type": "markdown",
   "metadata": {},
   "source": [
    "Of the more than 350 features in the dataset there are 192 that explain 95% of the variance. The dataset can be reduced by almost half of its feature range while only losing 5% of variance."
   ]
  },
  {
   "cell_type": "code",
   "execution_count": 54,
   "metadata": {},
   "outputs": [
    {
     "name": "stdout",
     "output_type": "stream",
     "text": [
      "0.9495658844623966\n"
     ]
    }
   ],
   "source": [
    "# Reduce the azdias dataset\n",
    "pca = PCA(n_components=192).fit(azdias_trans)\n",
    "azdias_reduced = pca.transform(azdias_trans)\n",
    "azdias_reduced = pd.DataFrame(azdias_reduced)\n",
    "print(pca.explained_variance_ratio_.sum())"
   ]
  },
  {
   "cell_type": "code",
   "execution_count": 55,
   "metadata": {},
   "outputs": [
    {
     "data": {
      "text/plain": [
       "(701432, 192)"
      ]
     },
     "execution_count": 55,
     "metadata": {},
     "output_type": "execute_result"
    }
   ],
   "source": [
    "azdias_reduced.shape"
   ]
  },
  {
   "cell_type": "markdown",
   "metadata": {},
   "source": [
    "### Clustering with Elbow Method"
   ]
  },
  {
   "cell_type": "code",
   "execution_count": 56,
   "metadata": {},
   "outputs": [],
   "source": [
    "scores = []\n",
    "for i in range(1, 31):\n",
    "    km = KMeans(n_clusters=i, init='k-means++')\n",
    "    km.fit(azdias_reduced.sample(20000))\n",
    "    scores.append(km.inertia_)"
   ]
  },
  {
   "cell_type": "code",
   "execution_count": 57,
   "metadata": {},
   "outputs": [
    {
     "data": {
      "text/plain": [
       "Text(0, 0.5, 'Average Within-Cluster Distances')"
      ]
     },
     "execution_count": 57,
     "metadata": {},
     "output_type": "execute_result"
    },
    {
     "data": {
      "image/png": "[encoded data removed]",
      "text/plain": [
       "<Figure size 1152x432 with 1 Axes>"
      ]
     },
     "metadata": {
      "needs_background": "light"
     },
     "output_type": "display_data"
    }
   ],
   "source": [
    "centers = np.linspace(1,30,30)\n",
    "plt.figure(figsize=(16, 6))\n",
    "plt.plot(centers, scores, '-o')\n",
    "plt.title('k-means Clustering Elbow Plot')\n",
    "plt.xlabel(\"Number of clusters\")\n",
    "plt.ylabel(\"Average Within-Cluster Distances\")\n",
    "#plt.xticks(list(range(1,31)))\n"
   ]
  },
  {
   "cell_type": "markdown",
   "metadata": {},
   "source": [
    "There is no clear drop in average distance within clusters, but at about 12 clusters it is flat enough. So the line will be drawn there and 12 clusters will be used."
   ]
  },
  {
   "cell_type": "markdown",
   "metadata": {},
   "source": [
    "**Transform, reduce and cluster cleaned customers dataset**"
   ]
  },
  {
   "cell_type": "code",
   "execution_count": 58,
   "metadata": {},
   "outputs": [],
   "source": [
    "# Create cluster pipeline\n",
    "cluster_pipeline = Pipeline([\n",
    "    ('transform', column_transformer),\n",
    "    ('reduce', PCA(n_components = 192)),\n",
    "    ('cluster', KMeans(n_clusters = 12, init = 'k-means++'))\n",
    "])"
   ]
  },
  {
   "cell_type": "code",
   "execution_count": 59,
   "metadata": {},
   "outputs": [],
   "source": [
    "# Fit cluster pipeline and create clustered general population dataframe\n",
    "cluster_pipeline.fit(azdias_clean)\n",
    "azdias_clustered = pd.DataFrame(cluster_pipeline.predict(azdias_clean), columns = ['Cluster'])"
   ]
  },
  {
   "cell_type": "code",
   "execution_count": 60,
   "metadata": {},
   "outputs": [
    {
     "data": {
      "text/plain": [
       "(701432, 250)"
      ]
     },
     "execution_count": 60,
     "metadata": {},
     "output_type": "execute_result"
    }
   ],
   "source": [
    "azdias_clean.shape"
   ]
  },
  {
   "cell_type": "code",
   "execution_count": 61,
   "metadata": {},
   "outputs": [
    {
     "data": {
      "text/plain": [
       "(131987, 250)"
      ]
     },
     "execution_count": 61,
     "metadata": {},
     "output_type": "execute_result"
    }
   ],
   "source": [
    "customers_clean.shape"
   ]
  },
  {
   "cell_type": "code",
   "execution_count": 62,
   "metadata": {},
   "outputs": [],
   "source": [
    "# Create clustered customers dataframe\n",
    "customers_clustered = pd.DataFrame(cluster_pipeline.predict(customers_clean), columns = ['Cluster'])"
   ]
  },
  {
   "cell_type": "code",
   "execution_count": 63,
   "metadata": {},
   "outputs": [],
   "source": [
    "# Save custered datasets to pickle files\n",
    "azdias_clustered.to_pickle('azdias_clustered')\n",
    "customers_clustered.to_pickle('customers_clustered')"
   ]
  },
  {
   "cell_type": "code",
   "execution_count": 64,
   "metadata": {},
   "outputs": [],
   "source": [
    "# Get cluster sizes in each dataset\n",
    "population_clusters = azdias_clustered['Cluster'].value_counts().sort_index()\n",
    "customer_clusters = customers_clustered['Cluster'].value_counts().sort_index()"
   ]
  },
  {
   "cell_type": "code",
   "execution_count": 65,
   "metadata": {},
   "outputs": [
    {
     "data": {
      "text/html": [
       "<div>\n",
       "<style scoped>\n",
       "    .dataframe tbody tr th:only-of-type {\n",
       "        vertical-align: middle;\n",
       "    }\n",
       "\n",
       "    .dataframe tbody tr th {\n",
       "        vertical-align: top;\n",
       "    }\n",
       "\n",
       "    .dataframe thead th {\n",
       "        text-align: right;\n",
       "    }\n",
       "</style>\n",
       "<table border=\"1\" class=\"dataframe\">\n",
       "  <thead>\n",
       "    <tr style=\"text-align: right;\">\n",
       "      <th></th>\n",
       "      <th>cluster</th>\n",
       "      <th>population</th>\n",
       "      <th>customers</th>\n",
       "      <th>difference</th>\n",
       "    </tr>\n",
       "  </thead>\n",
       "  <tbody>\n",
       "    <tr>\n",
       "      <th>0</th>\n",
       "      <td>0</td>\n",
       "      <td>59342</td>\n",
       "      <td>3363</td>\n",
       "      <td>-5.912143</td>\n",
       "    </tr>\n",
       "    <tr>\n",
       "      <th>1</th>\n",
       "      <td>1</td>\n",
       "      <td>84547</td>\n",
       "      <td>1043</td>\n",
       "      <td>-11.263256</td>\n",
       "    </tr>\n",
       "    <tr>\n",
       "      <th>2</th>\n",
       "      <td>2</td>\n",
       "      <td>50648</td>\n",
       "      <td>14800</td>\n",
       "      <td>3.992568</td>\n",
       "    </tr>\n",
       "    <tr>\n",
       "      <th>3</th>\n",
       "      <td>3</td>\n",
       "      <td>65065</td>\n",
       "      <td>8145</td>\n",
       "      <td>-3.104962</td>\n",
       "    </tr>\n",
       "    <tr>\n",
       "      <th>4</th>\n",
       "      <td>4</td>\n",
       "      <td>67161</td>\n",
       "      <td>1081</td>\n",
       "      <td>-8.755821</td>\n",
       "    </tr>\n",
       "    <tr>\n",
       "      <th>5</th>\n",
       "      <td>5</td>\n",
       "      <td>36129</td>\n",
       "      <td>17511</td>\n",
       "      <td>8.116467</td>\n",
       "    </tr>\n",
       "    <tr>\n",
       "      <th>6</th>\n",
       "      <td>6</td>\n",
       "      <td>81528</td>\n",
       "      <td>48029</td>\n",
       "      <td>24.766110</td>\n",
       "    </tr>\n",
       "    <tr>\n",
       "      <th>7</th>\n",
       "      <td>7</td>\n",
       "      <td>72192</td>\n",
       "      <td>12390</td>\n",
       "      <td>-0.904800</td>\n",
       "    </tr>\n",
       "    <tr>\n",
       "      <th>8</th>\n",
       "      <td>8</td>\n",
       "      <td>54410</td>\n",
       "      <td>2728</td>\n",
       "      <td>-5.690118</td>\n",
       "    </tr>\n",
       "    <tr>\n",
       "      <th>9</th>\n",
       "      <td>9</td>\n",
       "      <td>45762</td>\n",
       "      <td>3696</td>\n",
       "      <td>-3.723806</td>\n",
       "    </tr>\n",
       "    <tr>\n",
       "      <th>10</th>\n",
       "      <td>10</td>\n",
       "      <td>2691</td>\n",
       "      <td>2511</td>\n",
       "      <td>1.518816</td>\n",
       "    </tr>\n",
       "    <tr>\n",
       "      <th>11</th>\n",
       "      <td>11</td>\n",
       "      <td>81957</td>\n",
       "      <td>16690</td>\n",
       "      <td>0.960945</td>\n",
       "    </tr>\n",
       "  </tbody>\n",
       "</table>\n",
       "</div>"
      ],
      "text/plain": [
       "    cluster  population  customers  difference\n",
       "0         0       59342       3363   -5.912143\n",
       "1         1       84547       1043  -11.263256\n",
       "2         2       50648      14800    3.992568\n",
       "3         3       65065       8145   -3.104962\n",
       "4         4       67161       1081   -8.755821\n",
       "5         5       36129      17511    8.116467\n",
       "6         6       81528      48029   24.766110\n",
       "7         7       72192      12390   -0.904800\n",
       "8         8       54410       2728   -5.690118\n",
       "9         9       45762       3696   -3.723806\n",
       "10       10        2691       2511    1.518816\n",
       "11       11       81957      16690    0.960945"
      ]
     },
     "execution_count": 65,
     "metadata": {},
     "output_type": "execute_result"
    }
   ],
   "source": [
    "# Concat the dataframes into a single one\n",
    "clusters = pd.concat([population_clusters, customer_clusters], axis=1).reset_index()\n",
    "clusters.columns = ['cluster','population','customers']\n",
    "\n",
    "clusters['difference'] = (clusters['customers']/clusters['customers'].sum()*100) - (clusters['population']/clusters['population'].sum()*100)\n",
    "clusters"
   ]
  },
  {
   "cell_type": "code",
   "execution_count": 66,
   "metadata": {},
   "outputs": [
    {
     "data": {
      "image/png": "[encoded data removed]",
      "text/plain": [
       "<Figure size 864x360 with 1 Axes>"
      ]
     },
     "metadata": {
      "needs_background": "light"
     },
     "output_type": "display_data"
    }
   ],
   "source": [
    "# Calculate the percentage of each cluster\n",
    "clusters['population_percent'] = (clusters['population']/clusters['population'].sum()*100).round(2)\n",
    "clusters['customers_percent'] = (clusters['customers']/clusters['customers'].sum()*100).round(2)\n",
    "\n",
    "# Plot the clusters\n",
    "fig = plt.figure(figsize=(12,5))\n",
    "\n",
    "ax = fig.add_subplot(111)\n",
    "ax = clusters['population_percent'].plot(x=clusters['cluster'],width=-0.3,align='edge',color='blue',kind='bar',position=0)\n",
    "ax = clusters['customers_percent'].plot(kind='bar',color='orange',width = 0.3, align='edge',position=1)\n",
    "ax.set_xlabel('Clusters', fontsize=15) \n",
    "ax.set_ylabel('Ratio %', fontsize=15)\n",
    "ax.xaxis.set(ticklabels=range(12))\n",
    "ax.tick_params(axis = 'x', which = 'major', labelsize = 13)\n",
    "ax.margins(x=0.5,y=0.1)\n",
    "\n",
    "plt.legend(('Gen Population', 'Customer'),fontsize=15)\n",
    "plt.title(('Ratio of Gen Population Vs Customer segments as % of total per cluster'))\n",
    "plt.show()"
   ]
  },
  {
   "cell_type": "markdown",
   "metadata": {},
   "source": [
    "Looking at how clusters are spread over the datasets, it looks like the biggest difference in the clusters is in cluster 0 and 6 positively towards the customers dataset and clusters 1 and 4 negatively towards the customers dataset."
   ]
  },
  {
   "cell_type": "code",
   "execution_count": 67,
   "metadata": {},
   "outputs": [],
   "source": [
    "# Postive and Negative weights\n",
    "# Build ratios and weights\n",
    "ratio = pd.DataFrame(pca.explained_variance_ratio_,columns = ['EXPLAINED_VARIANCE'])\n",
    "ratio = ratio.round(3)\n",
    "weights = pd.DataFrame(pca.components_, columns = azdias_trans.columns.values)\n",
    "weights = weights.round(3)    \n",
    "    \n",
    "result = pd.concat([ratio, weights], axis = 1)"
   ]
  },
  {
   "cell_type": "code",
   "execution_count": 68,
   "metadata": {},
   "outputs": [
    {
     "name": "stdout",
     "output_type": "stream",
     "text": [
      "Highest Positive weights:\n",
      "(KBA05_ANTG1,)       0.161\n",
      "(KBA13_ANTG1,)       0.152\n",
      "(KBA05_GBZ,)         0.150\n",
      "(KBA05_AUTOQUOT,)    0.149\n",
      "(MOBI_RASTER,)       0.147\n",
      "Name: 0, dtype: float64\n",
      "\n",
      "\n",
      "Negative weights:\n",
      "(HH_EINKOMMEN_SCORE,)    -0.177\n",
      "(ANZ_HAUSHALTE_AKTIV,)   -0.157\n",
      "(ARBEIT,)                -0.131\n",
      "(FINANZ_HAUSBAUER,)      -0.129\n",
      "(KBA05_ANTG3,)           -0.110\n",
      "Name: 0, dtype: float64\n"
     ]
    }
   ],
   "source": [
    "# Show highest positive and negative weights for cluster 0\n",
    "print(\"Highest Positive weights:\")\n",
    "print(result.iloc[0].sort_values(ascending=False)[:5])\n",
    "print('\\n')\n",
    "print(\"Negative weights:\")\n",
    "print(result.iloc[0].sort_values()[:5])"
   ]
  },
  {
   "cell_type": "code",
   "execution_count": 69,
   "metadata": {},
   "outputs": [
    {
     "name": "stdout",
     "output_type": "stream",
     "text": [
      "Highest Positive weights:\n",
      "(KBA05_VORB0,)     0.175\n",
      "(KBA05_MOTOR,)     0.158\n",
      "(KBA05_MAXBJ,)     0.145\n",
      "(KBA05_KW3,)       0.142\n",
      "(KBA05_MAXSEG,)    0.137\n",
      "Name: 6, dtype: float64\n",
      "\n",
      "\n",
      "Negative weights:\n",
      "(KBA05_KW1,)       -0.179\n",
      "(KBA05_MAXVORB,)   -0.157\n",
      "(KBA05_ZUL1,)      -0.143\n",
      "(KBA05_VORB2,)     -0.139\n",
      "(KBA05_CCM1,)      -0.128\n",
      "Name: 6, dtype: float64\n"
     ]
    }
   ],
   "source": [
    "# Show highest positive and negative weights for cluster 6\n",
    "print(\"Highest Positive weights:\")\n",
    "print(result.iloc[6].sort_values(ascending=False)[:5])\n",
    "print('\\n')\n",
    "print(\"Negative weights:\")\n",
    "print(result.iloc[6].sort_values()[:5])"
   ]
  },
  {
   "cell_type": "code",
   "execution_count": 70,
   "metadata": {},
   "outputs": [
    {
     "name": "stdout",
     "output_type": "stream",
     "text": [
      "Highest Positive weights:\n",
      "(KBA13_SEG_OBEREMITTELKLASSE,)    0.172\n",
      "(KBA13_BMW,)                      0.168\n",
      "(EWDICHTE,)                       0.157\n",
      "(KBA13_SITZE_4,)                  0.154\n",
      "(KBA13_SEG_SPORTWAGEN,)           0.150\n",
      "Name: 1, dtype: float64\n",
      "\n",
      "\n",
      "Negative weights:\n",
      "(KBA13_KMH_140_210,)      -0.148\n",
      "(KBA13_ALTERHALTER_60,)   -0.147\n",
      "(KONSUMNAEHE,)            -0.142\n",
      "(KBA13_HALTER_20,)        -0.140\n",
      "(FIRMENDICHTE,)           -0.133\n",
      "Name: 1, dtype: float64\n"
     ]
    }
   ],
   "source": [
    "# Show highest positive and negative weights for cluster 1\n",
    "print(\"Highest Positive weights:\")\n",
    "print(result.iloc[1].sort_values(ascending=False)[:5])\n",
    "print('\\n')\n",
    "print(\"Negative weights:\")\n",
    "print(result.iloc[1].sort_values()[:5])"
   ]
  },
  {
   "cell_type": "code",
   "execution_count": 71,
   "metadata": {},
   "outputs": [
    {
     "name": "stdout",
     "output_type": "stream",
     "text": [
      "Highest Positive weights:\n",
      "(KBA13_KMH_210,)             0.219\n",
      "(KBA13_CCM_1401_2500,)       0.193\n",
      "(KBA13_CCM_2000,)            0.138\n",
      "(KBA13_SEG_MITTELKLASSE,)    0.133\n",
      "(FINANZ_ANLEGER,)            0.133\n",
      "Name: 4, dtype: float64\n",
      "\n",
      "\n",
      "Negative weights:\n",
      "(KBA13_KW_0_60,)         -0.221\n",
      "(KBA13_CCM_0_1400,)      -0.188\n",
      "(KBA13_KMH_180,)         -0.173\n",
      "(KBA13_SITZE_4,)         -0.165\n",
      "(KBA13_SEG_MINIWAGEN,)   -0.164\n",
      "Name: 4, dtype: float64\n"
     ]
    }
   ],
   "source": [
    "# Show highest positive and negative weights for cluster 4\n",
    "print(\"Highest Positive weights:\")\n",
    "print(result.iloc[4].sort_values(ascending=False)[:5])\n",
    "print('\\n')\n",
    "print(\"Negative weights:\")\n",
    "print(result.iloc[4].sort_values()[:5])"
   ]
  },
  {
   "cell_type": "code",
   "execution_count": 72,
   "metadata": {},
   "outputs": [
    {
     "data": {
      "text/html": [
       "<div>\n",
       "<style scoped>\n",
       "    .dataframe tbody tr th:only-of-type {\n",
       "        vertical-align: middle;\n",
       "    }\n",
       "\n",
       "    .dataframe tbody tr th {\n",
       "        vertical-align: top;\n",
       "    }\n",
       "\n",
       "    .dataframe thead th {\n",
       "        text-align: right;\n",
       "    }\n",
       "</style>\n",
       "<table border=\"1\" class=\"dataframe\">\n",
       "  <thead>\n",
       "    <tr style=\"text-align: right;\">\n",
       "      <th></th>\n",
       "      <th>interested_cluster_0</th>\n",
       "      <th>interested_cluster_6</th>\n",
       "      <th>not_interested_cluster_1</th>\n",
       "      <th>not_interested_cluster_4</th>\n",
       "    </tr>\n",
       "  </thead>\n",
       "  <tbody>\n",
       "    <tr>\n",
       "      <th>LNR</th>\n",
       "      <td>629966.341766</td>\n",
       "      <td>696795.670075</td>\n",
       "      <td>713907.954046</td>\n",
       "      <td>685127.393167</td>\n",
       "    </tr>\n",
       "    <tr>\n",
       "      <th>EINGEZOGENAM_HH_JAHR</th>\n",
       "      <td>2005.513717</td>\n",
       "      <td>1999.552777</td>\n",
       "      <td>2006.222911</td>\n",
       "      <td>2006.257802</td>\n",
       "    </tr>\n",
       "    <tr>\n",
       "      <th>GEBURTSJAHR</th>\n",
       "      <td>1126.482676</td>\n",
       "      <td>1125.642651</td>\n",
       "      <td>1100.853682</td>\n",
       "      <td>1276.381522</td>\n",
       "    </tr>\n",
       "  </tbody>\n",
       "</table>\n",
       "</div>"
      ],
      "text/plain": [
       "                      interested_cluster_0  interested_cluster_6  \\\n",
       "LNR                          629966.341766         696795.670075   \n",
       "EINGEZOGENAM_HH_JAHR           2005.513717           1999.552777   \n",
       "GEBURTSJAHR                    1126.482676           1125.642651   \n",
       "\n",
       "                      not_interested_cluster_1  not_interested_cluster_4  \n",
       "LNR                              713907.954046             685127.393167  \n",
       "EINGEZOGENAM_HH_JAHR               2006.222911               2006.257802  \n",
       "GEBURTSJAHR                        1100.853682               1276.381522  "
      ]
     },
     "execution_count": 72,
     "metadata": {},
     "output_type": "execute_result"
    }
   ],
   "source": [
    "pca_components = cluster_pipeline.named_steps['reduce']\n",
    "kmeans = cluster_pipeline.named_steps['cluster']\n",
    "transformer =  cluster_pipeline.named_steps['transform']\n",
    "\n",
    "cluster_centers = pca_components.inverse_transform(kmeans.cluster_centers_)\n",
    "cluster_centers_df = pd.DataFrame(cluster_centers, columns=column_names)\n",
    "\n",
    "num_scale = transformer.named_transformers_['numerical'].named_steps['num_scale']\n",
    "log_scale = transformer.named_transformers_['skewed'].named_steps['log_scale']\n",
    "log_transform = transformer.named_transformers_['skewed'].named_steps['log_transform']\n",
    "\n",
    "cluster_centers_df[numerical_cols] = num_scale.inverse_transform(cluster_centers_df[numerical_cols])\n",
    "cluster_centers_df[skewed_cols] = log_scale.inverse_transform(cluster_centers_df[skewed_cols])\n",
    "cluster_centers_df[skewed_cols] = log_transform.inverse_transform(cluster_centers_df[skewed_cols])\n",
    "\n",
    "comparison_df = cluster_centers_df.T[[0, 6, 1, 4]]\n",
    "comparison_df.columns=['interested_cluster_0','interested_cluster_6','not_interested_cluster_1','not_interested_cluster_4']\n",
    "\n",
    "comparison_df[comparison_df.std(axis=1)>2]"
   ]
  },
  {
   "cell_type": "markdown",
   "metadata": {},
   "source": [
    "## Part 2: Supervised Learning Model\n",
    "\n",
    "Now that you've found which parts of the population are more likely to be customers of the mail-order company, it's time to build a prediction model. Each of the rows in the \"MAILOUT\" data files represents an individual that was targeted for a mailout campaign. Ideally, we should be able to use the demographic information from each individual to decide whether or not it will be worth it to include that person in the campaign.\n",
    "\n",
    "The \"MAILOUT\" data has been split into two approximately equal parts, each with almost 43 000 data rows. In this part, you can verify your model with the \"TRAIN\" partition, which includes a column, \"RESPONSE\", that states whether or not a person became a customer of the company following the campaign. In the next part, you'll need to create predictions on the \"TEST\" partition, where the \"RESPONSE\" column has been withheld."
   ]
  },
  {
   "cell_type": "code",
   "execution_count": 73,
   "metadata": {},
   "outputs": [],
   "source": [
    "mailout_train = pd.read_csv('data/Udacity_MAILOUT_052018_TRAIN.csv', sep=';', low_memory=False)"
   ]
  },
  {
   "cell_type": "code",
   "execution_count": 74,
   "metadata": {},
   "outputs": [
    {
     "data": {
      "text/plain": [
       "(42962, 367)"
      ]
     },
     "execution_count": 74,
     "metadata": {},
     "output_type": "execute_result"
    }
   ],
   "source": [
    "mailout_train.shape"
   ]
  },
  {
   "cell_type": "code",
   "execution_count": 75,
   "metadata": {},
   "outputs": [
    {
     "name": "stdout",
     "output_type": "stream",
     "text": [
      "number of rows in new dataset:  33582\n"
     ]
    }
   ],
   "source": [
    "# Clean the dataset\n",
    "#mailout_train_clean = mailout_train.drop(['RESPONSE'], axis=1)\n",
    "mailout_train_clean = mailout_train.drop(drop_null_cols, axis=1)\n",
    "mailout_train_clean['EINGEFUEGT_AM'] = pd.to_datetime(mailout_train_clean['EINGEFUEGT_AM'], format='%Y-%m-%d ').dt.year\n",
    "mailout_train_clean['OST_WEST_KZ'].replace('O', 0, inplace=True)\n",
    "mailout_train_clean['OST_WEST_KZ'].replace('W', 1, inplace=True)\n",
    "mailout_train_clean['OST_WEST_KZ'] = pd.to_numeric(mailout_train_clean['OST_WEST_KZ'], errors = 'coerce')\n",
    "mailout_train_clean = mailout_train_clean[mailout_train_clean.isnull().sum(axis=1) <= 11].reset_index(drop=True)\n",
    "print('number of rows in new dataset: ', mailout_train_clean.shape[0])"
   ]
  },
  {
   "cell_type": "code",
   "execution_count": 76,
   "metadata": {},
   "outputs": [
    {
     "data": {
      "text/plain": [
       "(33582, 358)"
      ]
     },
     "execution_count": 76,
     "metadata": {},
     "output_type": "execute_result"
    }
   ],
   "source": [
    "mailout_train_clean.shape"
   ]
  },
  {
   "cell_type": "code",
   "execution_count": 77,
   "metadata": {},
   "outputs": [],
   "source": [
    "X = mailout_train_clean.drop(['RESPONSE'], axis=1)\n",
    "y = mailout_train_clean['RESPONSE']"
   ]
  },
  {
   "cell_type": "code",
   "execution_count": 78,
   "metadata": {},
   "outputs": [],
   "source": [
    "# Set models for testing prediction\n",
    "models = {'RandomForestClassifier': RandomForestClassifier(), \n",
    "          'AdaBoostClassifier': AdaBoostClassifier(), \n",
    "          'GradientBoostingClassifier': GradientBoostingClassifier()\n",
    "         }"
   ]
  },
  {
   "cell_type": "code",
   "execution_count": 79,
   "metadata": {},
   "outputs": [
    {
     "name": "stdout",
     "output_type": "stream",
     "text": [
      "RandomForestClassifier\n",
      "AUC train score = 1.0\n",
      "AUC validation score = 0.57\n",
      "\n"
     ]
    },
    {
     "data": {
      "image/png": "[encoded data removed]",
      "text/plain": [
       "<Figure size 432x288 with 1 Axes>"
      ]
     },
     "metadata": {
      "needs_background": "light"
     },
     "output_type": "display_data"
    },
    {
     "name": "stdout",
     "output_type": "stream",
     "text": [
      "AdaBoostClassifier\n",
      "AUC train score = 0.87\n",
      "AUC validation score = 0.76\n",
      "\n"
     ]
    },
    {
     "data": {
      "image/png": "[encoded data removed]",
      "text/plain": [
       "<Figure size 432x288 with 1 Axes>"
      ]
     },
     "metadata": {
      "needs_background": "light"
     },
     "output_type": "display_data"
    },
    {
     "name": "stdout",
     "output_type": "stream",
     "text": [
      "GradientBoostingClassifier\n",
      "AUC train score = 0.96\n",
      "AUC validation score = 0.76\n",
      "\n"
     ]
    },
    {
     "data": {
      "image/png": "[encoded data removed]",
      "text/plain": [
       "<Figure size 432x288 with 1 Axes>"
      ]
     },
     "metadata": {
      "needs_background": "light"
     },
     "output_type": "display_data"
    }
   ],
   "source": [
    "# Loop through models and generate learning curves\n",
    "for model_key in models.keys():\n",
    "    print(model_key)\n",
    "    ml_pipeline = Pipeline([\n",
    "        ('transform', column_transformer),\n",
    "        ('model', models[model_key])\n",
    "    ])\n",
    "    mailout_train_clean_randomized = mailout_train_clean.sample(frac=1)\n",
    "    y_rand = mailout_train_clean_randomized['RESPONSE']\n",
    "    X_rand = mailout_train_clean_randomized.drop(['RESPONSE'],axis=1)\n",
    "    \n",
    "    train_sizes, train_scores, test_scores = learning_curve(\n",
    "        ml_pipeline, X_rand, y_rand, scoring = 'roc_auc', train_sizes=np.linspace(.1, 1.0, 10))\n",
    "\n",
    "    train_scores_mean = np.mean(train_scores, axis=1)\n",
    "    test_scores_mean = np.mean(test_scores, axis=1)\n",
    "    print(\"AUC train score = {}\".format(train_scores_mean[-1].round(2)))\n",
    "    print(\"AUC validation score = {}\".format(test_scores_mean[-1].round(2)))\n",
    "    plt.grid()\n",
    "\n",
    "    plt.title(\"Learning Curves\")\n",
    "    plt.xlabel(\"% of training set\")\n",
    "    plt.ylabel(\"Score\")\n",
    "\n",
    "    plt.plot(np.linspace(.1, 1.0, 10)*100, train_scores_mean, 'o-', color=\"red\",\n",
    "             label=\"Training score\")\n",
    "    plt.plot(np.linspace(.1, 1.0, 10)*100, test_scores_mean, 'o-', color=\"blue\",\n",
    "             label=\"Cross-validation score\")\n",
    "\n",
    "    plt.yticks(np.arange(0.50, 1.02, 0.05))\n",
    "    plt.xticks(np.arange(0., 100.05, 10))\n",
    "    plt.legend(loc=\"best\")\n",
    "    print(\"\")\n",
    "    plt.show()"
   ]
  },
  {
   "cell_type": "markdown",
   "metadata": {},
   "source": [
    "The Random Forest Classifier shows high model bias with its consistently high train score. The model is overfitted to the training data and wouldn't be a good predictor for new data.\n",
    "\n",
    "The AdaBoost Classifier shows better performance with a decrease of model bias as the sample size increases. However, after ~80% of the sample data, the curves stop converging.\n",
    "\n",
    "The Gradient Boosting Classifier shows good performance and decreasing model bias. On top of that, the curves continue to converge all the way through the training set. It also has a high mean validation score. This is the classifier that will be used to continue to tune the model using grid-search."
   ]
  },
  {
   "cell_type": "code",
   "execution_count": 81,
   "metadata": {},
   "outputs": [],
   "source": [
    "#initialize with GradientBoostingClassifier\n",
    "gbc_pipeline = Pipeline([\n",
    "    ('transform', column_transformer),\n",
    "    ('gbc', GradientBoostingClassifier(random_state=42))\n",
    "])\n",
    "\n",
    "parameters = {'gbc__learning_rate': [0.1, 0.2], 'gbc__n_estimators': [100],\n",
    "             'gbc__max_depth': [3, 5], 'gbc__min_samples_split': [2,4]}        \n",
    "        \n",
    "gbc_gridsearch = GridSearchCV(gbc_pipeline, parameters, scoring = 'roc_auc')\n",
    "#grid_obj = GridSearchCV(gbc_pipeline, parameters, scoring = 'roc_auc', verbose=50)\n",
    "\n",
    "# Fit the grid search object to the training data and find the optimal parameters\n",
    "gbc_grid_fit = gbc_gridsearch.fit(X, y)"
   ]
  },
  {
   "cell_type": "code",
   "execution_count": 82,
   "metadata": {},
   "outputs": [
    {
     "name": "stdout",
     "output_type": "stream",
     "text": [
      "{'gbc__learning_rate': 0.1, 'gbc__max_depth': 5, 'gbc__min_samples_split': 4, 'gbc__n_estimators': 100}\n",
      "ROC score: 0.9418\n",
      "Final ROC score: 0.9991\n"
     ]
    }
   ],
   "source": [
    "# Get the estimator and predict\n",
    "print(gbc_grid_fit.best_params_)\n",
    "best_clf = gbc_grid_fit.best_estimator_\n",
    "best_predictions = best_clf.predict_proba(X)[:, 1]\n",
    "\n",
    "# Make predictions using unoptimized and the best model\n",
    "predictions = (gbc_pipeline.fit(X, y)).predict_proba(X)[:, 1]\n",
    "\n",
    "print(\"ROC score: {:.4f}\".format(roc_auc_score(y, predictions)))\n",
    "print(\"Final ROC score: {:.4f}\".format(roc_auc_score(y, best_predictions)))"
   ]
  },
  {
   "cell_type": "code",
   "execution_count": 83,
   "metadata": {},
   "outputs": [
    {
     "data": {
      "text/plain": [
       "Text(0.5, 0, 'feature importance')"
      ]
     },
     "execution_count": 83,
     "metadata": {},
     "output_type": "execute_result"
    },
    {
     "data": {
      "image/png": "[encoded data removed]",
      "text/plain": [
       "<Figure size 504x720 with 1 Axes>"
      ]
     },
     "metadata": {
      "needs_background": "light"
     },
     "output_type": "display_data"
    }
   ],
   "source": [
    "feature_importances = best_clf.named_steps['gbc'].feature_importances_\n",
    "pd.Series(feature_importances, index=column_names).sort_values()[-10:].plot(kind='barh', figsize=(7,10))\n",
    "plt.xlabel('feature importance')"
   ]
  },
  {
   "cell_type": "markdown",
   "metadata": {},
   "source": [
    "## Part 3: Kaggle Competition\n",
    "\n",
    "Now that you've created a model to predict which individuals are most likely to respond to a mailout campaign, it's time to test that model in competition through Kaggle. If you click on the link [here](http://www.kaggle.com/t/21e6d45d4c574c7fa2d868f0e8c83140), you'll be taken to the competition page where, if you have a Kaggle account, you can enter.\n",
    "\n",
    "Your entry to the competition should be a CSV file with two columns. The first column should be a copy of \"LNR\", which acts as an ID number for each individual in the \"TEST\" partition. The second column, \"RESPONSE\", should be some measure of how likely each individual became a customer – this might not be a straightforward probability. As you should have found in Part 2, there is a large output class imbalance, where most individuals did not respond to the mailout. Thus, predicting individual classes and using accuracy does not seem to be an appropriate performance evaluation method. Instead, the competition will be using AUC to evaluate performance. The exact values of the \"RESPONSE\" column do not matter as much: only that the higher values try to capture as many of the actual customers as possible, early in the ROC curve sweep."
   ]
  },
  {
   "cell_type": "code",
   "execution_count": 84,
   "metadata": {},
   "outputs": [],
   "source": [
    "mailout_test = pd.read_csv('data/Udacity_MAILOUT_052018_TEST.csv', sep=';', low_memory=False)"
   ]
  },
  {
   "cell_type": "code",
   "execution_count": 85,
   "metadata": {},
   "outputs": [
    {
     "data": {
      "text/plain": [
       "(42833, 366)"
      ]
     },
     "execution_count": 85,
     "metadata": {},
     "output_type": "execute_result"
    }
   ],
   "source": [
    "mailout_test.shape"
   ]
  },
  {
   "cell_type": "code",
   "execution_count": 86,
   "metadata": {},
   "outputs": [],
   "source": [
    "train_set= set(mailout_train.columns)\n",
    "test_set= set(mailout_test.columns)"
   ]
  },
  {
   "cell_type": "code",
   "execution_count": 87,
   "metadata": {},
   "outputs": [
    {
     "data": {
      "text/plain": [
       "{'RESPONSE'}"
      ]
     },
     "execution_count": 87,
     "metadata": {},
     "output_type": "execute_result"
    }
   ],
   "source": [
    "train_set - test_set"
   ]
  },
  {
   "cell_type": "code",
   "execution_count": 88,
   "metadata": {},
   "outputs": [
    {
     "name": "stdout",
     "output_type": "stream",
     "text": [
      "number of rows in new dataset:  42833\n"
     ]
    }
   ],
   "source": [
    "# Clean the dataset\n",
    "#mailout_train_clean = mailout_train.drop(['RESPONSE'], axis=1)\n",
    "mailout_test_clean = mailout_test.drop(drop_null_cols, axis=1)\n",
    "mailout_test_clean['EINGEFUEGT_AM'] = pd.to_datetime(mailout_test_clean['EINGEFUEGT_AM'], format='%Y-%m-%d ').dt.year\n",
    "mailout_test_clean['OST_WEST_KZ'].replace('O', 0, inplace=True)\n",
    "mailout_test_clean['OST_WEST_KZ'].replace('W', 1, inplace=True)\n",
    "mailout_test_clean['OST_WEST_KZ'] = pd.to_numeric(mailout_train_clean['OST_WEST_KZ'], errors = 'coerce')\n",
    "#mailout_test_clean = mailout_test_clean[mailout_test_clean.isnull().sum(axis=1) <= 11].reset_index(drop=True)\n",
    "print('number of rows in new dataset: ', mailout_test_clean.shape[0])"
   ]
  },
  {
   "cell_type": "code",
   "execution_count": 89,
   "metadata": {},
   "outputs": [
    {
     "data": {
      "text/plain": [
       "(42833, 357)"
      ]
     },
     "execution_count": 89,
     "metadata": {},
     "output_type": "execute_result"
    }
   ],
   "source": [
    "mailout_test_clean.shape"
   ]
  },
  {
   "cell_type": "code",
   "execution_count": 90,
   "metadata": {},
   "outputs": [],
   "source": [
    "#predict target values\n",
    "kaggle_predict = best_clf.predict_proba(mailout_test_clean)[:,1]"
   ]
  },
  {
   "cell_type": "code",
   "execution_count": 91,
   "metadata": {},
   "outputs": [],
   "source": [
    "kaggle = pd.DataFrame(index=mailout_test['LNR'].astype('int32'), data=kaggle_predict)\n",
    "kaggle.rename(columns={0: \"RESPONSE\"}, inplace=True)"
   ]
  },
  {
   "cell_type": "code",
   "execution_count": 92,
   "metadata": {},
   "outputs": [
    {
     "data": {
      "text/html": [
       "<div>\n",
       "<style scoped>\n",
       "    .dataframe tbody tr th:only-of-type {\n",
       "        vertical-align: middle;\n",
       "    }\n",
       "\n",
       "    .dataframe tbody tr th {\n",
       "        vertical-align: top;\n",
       "    }\n",
       "\n",
       "    .dataframe thead th {\n",
       "        text-align: right;\n",
       "    }\n",
       "</style>\n",
       "<table border=\"1\" class=\"dataframe\">\n",
       "  <thead>\n",
       "    <tr style=\"text-align: right;\">\n",
       "      <th></th>\n",
       "      <th>RESPONSE</th>\n",
       "    </tr>\n",
       "    <tr>\n",
       "      <th>LNR</th>\n",
       "      <th></th>\n",
       "    </tr>\n",
       "  </thead>\n",
       "  <tbody>\n",
       "    <tr>\n",
       "      <th>1754</th>\n",
       "      <td>0.021217</td>\n",
       "    </tr>\n",
       "    <tr>\n",
       "      <th>1770</th>\n",
       "      <td>0.018736</td>\n",
       "    </tr>\n",
       "    <tr>\n",
       "      <th>1465</th>\n",
       "      <td>0.000897</td>\n",
       "    </tr>\n",
       "    <tr>\n",
       "      <th>1470</th>\n",
       "      <td>0.000859</td>\n",
       "    </tr>\n",
       "    <tr>\n",
       "      <th>1478</th>\n",
       "      <td>0.000962</td>\n",
       "    </tr>\n",
       "    <tr>\n",
       "      <th>1782</th>\n",
       "      <td>0.219065</td>\n",
       "    </tr>\n",
       "    <tr>\n",
       "      <th>1485</th>\n",
       "      <td>0.001156</td>\n",
       "    </tr>\n",
       "    <tr>\n",
       "      <th>1519</th>\n",
       "      <td>0.021469</td>\n",
       "    </tr>\n",
       "    <tr>\n",
       "      <th>1835</th>\n",
       "      <td>0.006255</td>\n",
       "    </tr>\n",
       "    <tr>\n",
       "      <th>1522</th>\n",
       "      <td>0.001832</td>\n",
       "    </tr>\n",
       "  </tbody>\n",
       "</table>\n",
       "</div>"
      ],
      "text/plain": [
       "      RESPONSE\n",
       "LNR           \n",
       "1754  0.021217\n",
       "1770  0.018736\n",
       "1465  0.000897\n",
       "1470  0.000859\n",
       "1478  0.000962\n",
       "1782  0.219065\n",
       "1485  0.001156\n",
       "1519  0.021469\n",
       "1835  0.006255\n",
       "1522  0.001832"
      ]
     },
     "execution_count": 92,
     "metadata": {},
     "output_type": "execute_result"
    }
   ],
   "source": [
    "kaggle.head(10)"
   ]
  },
  {
   "cell_type": "code",
   "execution_count": 93,
   "metadata": {},
   "outputs": [],
   "source": [
    "kaggle.to_csv('submission.csv')"
   ]
  },
  {
   "cell_type": "code",
   "execution_count": null,
   "metadata": {},
   "outputs": [],
   "source": []
  }
 ],
 "metadata": {
  "kernelspec": {
   "display_name": "Python 3",
   "language": "python",
   "name": "python3"
  }
 },
 "nbformat": 4,
 "nbformat_minor": 2
}
